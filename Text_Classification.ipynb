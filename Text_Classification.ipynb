{
  "nbformat": 4,
  "nbformat_minor": 0,
  "metadata": {
    "colab": {
      "provenance": []
    },
    "kernelspec": {
      "name": "python3",
      "display_name": "Python 3"
    },
    "language_info": {
      "name": "python"
    }
  },
  "cells": [
    {
      "cell_type": "markdown",
      "source": [
        "Creating API key"
      ],
      "metadata": {
        "id": "1mCSX0RRy3zP"
      }
    },
    {
      "cell_type": "code",
      "execution_count": 1,
      "metadata": {
        "id": "8k4-tq8-wH2r"
      },
      "outputs": [],
      "source": [
        "!pip3 install -q kaggle"
      ]
    },
    {
      "cell_type": "code",
      "source": [
        "!pip3 install torch_geometric"
      ],
      "metadata": {
        "id": "sSrJ314BYSjf"
      },
      "execution_count": null,
      "outputs": []
    },
    {
      "cell_type": "code",
      "source": [
        "import torch\n",
        "from torch import nn\n",
        "import torch.nn.functional as F\n",
        "from torch.optim import Adam\n",
        "from torch.optim import lr_scheduler\n",
        "from torch_geometric.data import Data\n",
        "from torch_geometric.data import InMemoryDataset\n",
        "from torch_geometric.nn import GCNConv, SAGEConv, GATConv, TransformerConv, GATv2Conv, ChebConv, ResGatedGraphConv\n",
        "import torch_geometric.nn as pyg_nn\n",
        "from torch_geometric.loader import DataLoader"
      ],
      "metadata": {
        "id": "oWp46iHCYNI3"
      },
      "execution_count": 3,
      "outputs": []
    },
    {
      "cell_type": "code",
      "source": [
        "from google.colab import files\n",
        "files.upload() #just load your kaggle.json"
      ],
      "metadata": {
        "id": "6ndABwNuyYi6",
        "colab": {
          "base_uri": "https://localhost:8080/",
          "height": 91
        },
        "outputId": "0150e481-17cb-448c-a943-fee736f61975"
      },
      "execution_count": 4,
      "outputs": [
        {
          "output_type": "display_data",
          "data": {
            "text/plain": [
              "<IPython.core.display.HTML object>"
            ],
            "text/html": [
              "\n",
              "     <input type=\"file\" id=\"files-c5f96c98-1c78-4a77-92c9-f4fc29aabc5f\" name=\"files[]\" multiple disabled\n",
              "        style=\"border:none\" />\n",
              "     <output id=\"result-c5f96c98-1c78-4a77-92c9-f4fc29aabc5f\">\n",
              "      Upload widget is only available when the cell has been executed in the\n",
              "      current browser session. Please rerun this cell to enable.\n",
              "      </output>\n",
              "      <script>// Copyright 2017 Google LLC\n",
              "//\n",
              "// Licensed under the Apache License, Version 2.0 (the \"License\");\n",
              "// you may not use this file except in compliance with the License.\n",
              "// You may obtain a copy of the License at\n",
              "//\n",
              "//      http://www.apache.org/licenses/LICENSE-2.0\n",
              "//\n",
              "// Unless required by applicable law or agreed to in writing, software\n",
              "// distributed under the License is distributed on an \"AS IS\" BASIS,\n",
              "// WITHOUT WARRANTIES OR CONDITIONS OF ANY KIND, either express or implied.\n",
              "// See the License for the specific language governing permissions and\n",
              "// limitations under the License.\n",
              "\n",
              "/**\n",
              " * @fileoverview Helpers for google.colab Python module.\n",
              " */\n",
              "(function(scope) {\n",
              "function span(text, styleAttributes = {}) {\n",
              "  const element = document.createElement('span');\n",
              "  element.textContent = text;\n",
              "  for (const key of Object.keys(styleAttributes)) {\n",
              "    element.style[key] = styleAttributes[key];\n",
              "  }\n",
              "  return element;\n",
              "}\n",
              "\n",
              "// Max number of bytes which will be uploaded at a time.\n",
              "const MAX_PAYLOAD_SIZE = 100 * 1024;\n",
              "\n",
              "function _uploadFiles(inputId, outputId) {\n",
              "  const steps = uploadFilesStep(inputId, outputId);\n",
              "  const outputElement = document.getElementById(outputId);\n",
              "  // Cache steps on the outputElement to make it available for the next call\n",
              "  // to uploadFilesContinue from Python.\n",
              "  outputElement.steps = steps;\n",
              "\n",
              "  return _uploadFilesContinue(outputId);\n",
              "}\n",
              "\n",
              "// This is roughly an async generator (not supported in the browser yet),\n",
              "// where there are multiple asynchronous steps and the Python side is going\n",
              "// to poll for completion of each step.\n",
              "// This uses a Promise to block the python side on completion of each step,\n",
              "// then passes the result of the previous step as the input to the next step.\n",
              "function _uploadFilesContinue(outputId) {\n",
              "  const outputElement = document.getElementById(outputId);\n",
              "  const steps = outputElement.steps;\n",
              "\n",
              "  const next = steps.next(outputElement.lastPromiseValue);\n",
              "  return Promise.resolve(next.value.promise).then((value) => {\n",
              "    // Cache the last promise value to make it available to the next\n",
              "    // step of the generator.\n",
              "    outputElement.lastPromiseValue = value;\n",
              "    return next.value.response;\n",
              "  });\n",
              "}\n",
              "\n",
              "/**\n",
              " * Generator function which is called between each async step of the upload\n",
              " * process.\n",
              " * @param {string} inputId Element ID of the input file picker element.\n",
              " * @param {string} outputId Element ID of the output display.\n",
              " * @return {!Iterable<!Object>} Iterable of next steps.\n",
              " */\n",
              "function* uploadFilesStep(inputId, outputId) {\n",
              "  const inputElement = document.getElementById(inputId);\n",
              "  inputElement.disabled = false;\n",
              "\n",
              "  const outputElement = document.getElementById(outputId);\n",
              "  outputElement.innerHTML = '';\n",
              "\n",
              "  const pickedPromise = new Promise((resolve) => {\n",
              "    inputElement.addEventListener('change', (e) => {\n",
              "      resolve(e.target.files);\n",
              "    });\n",
              "  });\n",
              "\n",
              "  const cancel = document.createElement('button');\n",
              "  inputElement.parentElement.appendChild(cancel);\n",
              "  cancel.textContent = 'Cancel upload';\n",
              "  const cancelPromise = new Promise((resolve) => {\n",
              "    cancel.onclick = () => {\n",
              "      resolve(null);\n",
              "    };\n",
              "  });\n",
              "\n",
              "  // Wait for the user to pick the files.\n",
              "  const files = yield {\n",
              "    promise: Promise.race([pickedPromise, cancelPromise]),\n",
              "    response: {\n",
              "      action: 'starting',\n",
              "    }\n",
              "  };\n",
              "\n",
              "  cancel.remove();\n",
              "\n",
              "  // Disable the input element since further picks are not allowed.\n",
              "  inputElement.disabled = true;\n",
              "\n",
              "  if (!files) {\n",
              "    return {\n",
              "      response: {\n",
              "        action: 'complete',\n",
              "      }\n",
              "    };\n",
              "  }\n",
              "\n",
              "  for (const file of files) {\n",
              "    const li = document.createElement('li');\n",
              "    li.append(span(file.name, {fontWeight: 'bold'}));\n",
              "    li.append(span(\n",
              "        `(${file.type || 'n/a'}) - ${file.size} bytes, ` +\n",
              "        `last modified: ${\n",
              "            file.lastModifiedDate ? file.lastModifiedDate.toLocaleDateString() :\n",
              "                                    'n/a'} - `));\n",
              "    const percent = span('0% done');\n",
              "    li.appendChild(percent);\n",
              "\n",
              "    outputElement.appendChild(li);\n",
              "\n",
              "    const fileDataPromise = new Promise((resolve) => {\n",
              "      const reader = new FileReader();\n",
              "      reader.onload = (e) => {\n",
              "        resolve(e.target.result);\n",
              "      };\n",
              "      reader.readAsArrayBuffer(file);\n",
              "    });\n",
              "    // Wait for the data to be ready.\n",
              "    let fileData = yield {\n",
              "      promise: fileDataPromise,\n",
              "      response: {\n",
              "        action: 'continue',\n",
              "      }\n",
              "    };\n",
              "\n",
              "    // Use a chunked sending to avoid message size limits. See b/62115660.\n",
              "    let position = 0;\n",
              "    do {\n",
              "      const length = Math.min(fileData.byteLength - position, MAX_PAYLOAD_SIZE);\n",
              "      const chunk = new Uint8Array(fileData, position, length);\n",
              "      position += length;\n",
              "\n",
              "      const base64 = btoa(String.fromCharCode.apply(null, chunk));\n",
              "      yield {\n",
              "        response: {\n",
              "          action: 'append',\n",
              "          file: file.name,\n",
              "          data: base64,\n",
              "        },\n",
              "      };\n",
              "\n",
              "      let percentDone = fileData.byteLength === 0 ?\n",
              "          100 :\n",
              "          Math.round((position / fileData.byteLength) * 100);\n",
              "      percent.textContent = `${percentDone}% done`;\n",
              "\n",
              "    } while (position < fileData.byteLength);\n",
              "  }\n",
              "\n",
              "  // All done.\n",
              "  yield {\n",
              "    response: {\n",
              "      action: 'complete',\n",
              "    }\n",
              "  };\n",
              "}\n",
              "\n",
              "scope.google = scope.google || {};\n",
              "scope.google.colab = scope.google.colab || {};\n",
              "scope.google.colab._files = {\n",
              "  _uploadFiles,\n",
              "  _uploadFilesContinue,\n",
              "};\n",
              "})(self);\n",
              "</script> "
            ]
          },
          "metadata": {}
        },
        {
          "output_type": "stream",
          "name": "stdout",
          "text": [
            "Saving kaggle.json to kaggle.json\n"
          ]
        },
        {
          "output_type": "execute_result",
          "data": {
            "text/plain": [
              "{'kaggle.json': b'{\"username\":\"aaanikit\",\"key\":\"20cd3080d6b8628fef8a299dd1101ec7\"}'}"
            ]
          },
          "metadata": {},
          "execution_count": 4
        }
      ]
    },
    {
      "cell_type": "code",
      "source": [
        "!mkdir ~/.kaggle\n",
        "!cp kaggle.json ~/.kaggle/\n",
        "!chmod 600 ~/.kaggle/kaggle.json"
      ],
      "metadata": {
        "id": "BE2ok25Fys5O"
      },
      "execution_count": 5,
      "outputs": []
    },
    {
      "cell_type": "markdown",
      "source": [
        "Download data"
      ],
      "metadata": {
        "id": "2gMR2pL2y6Rl"
      }
    },
    {
      "cell_type": "code",
      "source": [
        "!kaggle datasets download -d origamik/united-airlines-call-center-sentiment-dataset\n",
        "!kaggle datasets download -d takuok/glove840b300dtxt\n",
        "!unzip \"united-airlines-call-center-sentiment-dataset.zip\"\n",
        "!unzip \"glove840b300dtxt.zip\""
      ],
      "metadata": {
        "id": "8yTh9caPy77o"
      },
      "execution_count": null,
      "outputs": []
    },
    {
      "cell_type": "markdown",
      "source": [
        "Data processing"
      ],
      "metadata": {
        "id": "j5yqKKwK0HDM"
      }
    },
    {
      "cell_type": "code",
      "source": [
        "import pandas as pd\n",
        "\n",
        "calls_df = pd.read_csv('calls.csv')\n",
        "sentiment_df = pd.read_csv('sentiment_statistics.csv')\n",
        "\n",
        "# union of 2 dataframes by call_id\n",
        "merged_df = pd.merge(calls_df, sentiment_df, on=\"call_id\", how=\"inner\")\n",
        "\n",
        "# drop useless columns\n",
        "columns_to_drop = [\n",
        "    \"call_id\",\n",
        "    \"customer_id\",\n",
        "    \"agent_tone\",\n",
        "    \"average_sentiment\",\n",
        "    \"silence_percent_average\",\n",
        "    \"agent_id_x\",\n",
        "    \"call_start_datetime\",\n",
        "    \"agent_assigned_datetime\",\n",
        "    \"call_end_datetime\",\n",
        "    \"agent_id_y\"\n",
        "]\n",
        "\n",
        "final_df = merged_df.drop(columns=columns_to_drop, errors='ignore')\n",
        "final_df.to_csv(\"merged_output.csv\", index=False)"
      ],
      "metadata": {
        "id": "8pvb7K4s0KzH"
      },
      "execution_count": 14,
      "outputs": []
    },
    {
      "cell_type": "code",
      "source": [
        "final_df.head()"
      ],
      "metadata": {
        "colab": {
          "base_uri": "https://localhost:8080/",
          "height": 206
        },
        "id": "LBdJg9ZAOdoV",
        "outputId": "7a4394ae-5c2f-4ddd-ddef-25628eb5ebbc"
      },
      "execution_count": 15,
      "outputs": [
        {
          "output_type": "execute_result",
          "data": {
            "text/plain": [
              "                                     call_transcript customer_tone\n",
              "0  \\n\\nAgent: Thank you for calling United Airlin...         angry\n",
              "1  \\n\\nAgent: Thank you for calling United Airlin...       neutral\n",
              "2  \\n\\nAgent: Thank you for calling United Airlin...        polite\n",
              "3  \\n\\nAgent: Thank you for calling United Airlin...    frustrated\n",
              "4  \\n\\nAgent: Thank you for calling United Airlin...        polite"
            ],
            "text/html": [
              "\n",
              "  <div id=\"df-885fe84c-a839-4243-b604-e86fa86fb5df\" class=\"colab-df-container\">\n",
              "    <div>\n",
              "<style scoped>\n",
              "    .dataframe tbody tr th:only-of-type {\n",
              "        vertical-align: middle;\n",
              "    }\n",
              "\n",
              "    .dataframe tbody tr th {\n",
              "        vertical-align: top;\n",
              "    }\n",
              "\n",
              "    .dataframe thead th {\n",
              "        text-align: right;\n",
              "    }\n",
              "</style>\n",
              "<table border=\"1\" class=\"dataframe\">\n",
              "  <thead>\n",
              "    <tr style=\"text-align: right;\">\n",
              "      <th></th>\n",
              "      <th>call_transcript</th>\n",
              "      <th>customer_tone</th>\n",
              "    </tr>\n",
              "  </thead>\n",
              "  <tbody>\n",
              "    <tr>\n",
              "      <th>0</th>\n",
              "      <td>\\n\\nAgent: Thank you for calling United Airlin...</td>\n",
              "      <td>angry</td>\n",
              "    </tr>\n",
              "    <tr>\n",
              "      <th>1</th>\n",
              "      <td>\\n\\nAgent: Thank you for calling United Airlin...</td>\n",
              "      <td>neutral</td>\n",
              "    </tr>\n",
              "    <tr>\n",
              "      <th>2</th>\n",
              "      <td>\\n\\nAgent: Thank you for calling United Airlin...</td>\n",
              "      <td>polite</td>\n",
              "    </tr>\n",
              "    <tr>\n",
              "      <th>3</th>\n",
              "      <td>\\n\\nAgent: Thank you for calling United Airlin...</td>\n",
              "      <td>frustrated</td>\n",
              "    </tr>\n",
              "    <tr>\n",
              "      <th>4</th>\n",
              "      <td>\\n\\nAgent: Thank you for calling United Airlin...</td>\n",
              "      <td>polite</td>\n",
              "    </tr>\n",
              "  </tbody>\n",
              "</table>\n",
              "</div>\n",
              "    <div class=\"colab-df-buttons\">\n",
              "\n",
              "  <div class=\"colab-df-container\">\n",
              "    <button class=\"colab-df-convert\" onclick=\"convertToInteractive('df-885fe84c-a839-4243-b604-e86fa86fb5df')\"\n",
              "            title=\"Convert this dataframe to an interactive table.\"\n",
              "            style=\"display:none;\">\n",
              "\n",
              "  <svg xmlns=\"http://www.w3.org/2000/svg\" height=\"24px\" viewBox=\"0 -960 960 960\">\n",
              "    <path d=\"M120-120v-720h720v720H120Zm60-500h600v-160H180v160Zm220 220h160v-160H400v160Zm0 220h160v-160H400v160ZM180-400h160v-160H180v160Zm440 0h160v-160H620v160ZM180-180h160v-160H180v160Zm440 0h160v-160H620v160Z\"/>\n",
              "  </svg>\n",
              "    </button>\n",
              "\n",
              "  <style>\n",
              "    .colab-df-container {\n",
              "      display:flex;\n",
              "      gap: 12px;\n",
              "    }\n",
              "\n",
              "    .colab-df-convert {\n",
              "      background-color: #E8F0FE;\n",
              "      border: none;\n",
              "      border-radius: 50%;\n",
              "      cursor: pointer;\n",
              "      display: none;\n",
              "      fill: #1967D2;\n",
              "      height: 32px;\n",
              "      padding: 0 0 0 0;\n",
              "      width: 32px;\n",
              "    }\n",
              "\n",
              "    .colab-df-convert:hover {\n",
              "      background-color: #E2EBFA;\n",
              "      box-shadow: 0px 1px 2px rgba(60, 64, 67, 0.3), 0px 1px 3px 1px rgba(60, 64, 67, 0.15);\n",
              "      fill: #174EA6;\n",
              "    }\n",
              "\n",
              "    .colab-df-buttons div {\n",
              "      margin-bottom: 4px;\n",
              "    }\n",
              "\n",
              "    [theme=dark] .colab-df-convert {\n",
              "      background-color: #3B4455;\n",
              "      fill: #D2E3FC;\n",
              "    }\n",
              "\n",
              "    [theme=dark] .colab-df-convert:hover {\n",
              "      background-color: #434B5C;\n",
              "      box-shadow: 0px 1px 3px 1px rgba(0, 0, 0, 0.15);\n",
              "      filter: drop-shadow(0px 1px 2px rgba(0, 0, 0, 0.3));\n",
              "      fill: #FFFFFF;\n",
              "    }\n",
              "  </style>\n",
              "\n",
              "    <script>\n",
              "      const buttonEl =\n",
              "        document.querySelector('#df-885fe84c-a839-4243-b604-e86fa86fb5df button.colab-df-convert');\n",
              "      buttonEl.style.display =\n",
              "        google.colab.kernel.accessAllowed ? 'block' : 'none';\n",
              "\n",
              "      async function convertToInteractive(key) {\n",
              "        const element = document.querySelector('#df-885fe84c-a839-4243-b604-e86fa86fb5df');\n",
              "        const dataTable =\n",
              "          await google.colab.kernel.invokeFunction('convertToInteractive',\n",
              "                                                    [key], {});\n",
              "        if (!dataTable) return;\n",
              "\n",
              "        const docLinkHtml = 'Like what you see? Visit the ' +\n",
              "          '<a target=\"_blank\" href=https://colab.research.google.com/notebooks/data_table.ipynb>data table notebook</a>'\n",
              "          + ' to learn more about interactive tables.';\n",
              "        element.innerHTML = '';\n",
              "        dataTable['output_type'] = 'display_data';\n",
              "        await google.colab.output.renderOutput(dataTable, element);\n",
              "        const docLink = document.createElement('div');\n",
              "        docLink.innerHTML = docLinkHtml;\n",
              "        element.appendChild(docLink);\n",
              "      }\n",
              "    </script>\n",
              "  </div>\n",
              "\n",
              "\n",
              "<div id=\"df-c0917542-7eea-4147-8500-d15cb2e1b905\">\n",
              "  <button class=\"colab-df-quickchart\" onclick=\"quickchart('df-c0917542-7eea-4147-8500-d15cb2e1b905')\"\n",
              "            title=\"Suggest charts\"\n",
              "            style=\"display:none;\">\n",
              "\n",
              "<svg xmlns=\"http://www.w3.org/2000/svg\" height=\"24px\"viewBox=\"0 0 24 24\"\n",
              "     width=\"24px\">\n",
              "    <g>\n",
              "        <path d=\"M19 3H5c-1.1 0-2 .9-2 2v14c0 1.1.9 2 2 2h14c1.1 0 2-.9 2-2V5c0-1.1-.9-2-2-2zM9 17H7v-7h2v7zm4 0h-2V7h2v10zm4 0h-2v-4h2v4z\"/>\n",
              "    </g>\n",
              "</svg>\n",
              "  </button>\n",
              "\n",
              "<style>\n",
              "  .colab-df-quickchart {\n",
              "      --bg-color: #E8F0FE;\n",
              "      --fill-color: #1967D2;\n",
              "      --hover-bg-color: #E2EBFA;\n",
              "      --hover-fill-color: #174EA6;\n",
              "      --disabled-fill-color: #AAA;\n",
              "      --disabled-bg-color: #DDD;\n",
              "  }\n",
              "\n",
              "  [theme=dark] .colab-df-quickchart {\n",
              "      --bg-color: #3B4455;\n",
              "      --fill-color: #D2E3FC;\n",
              "      --hover-bg-color: #434B5C;\n",
              "      --hover-fill-color: #FFFFFF;\n",
              "      --disabled-bg-color: #3B4455;\n",
              "      --disabled-fill-color: #666;\n",
              "  }\n",
              "\n",
              "  .colab-df-quickchart {\n",
              "    background-color: var(--bg-color);\n",
              "    border: none;\n",
              "    border-radius: 50%;\n",
              "    cursor: pointer;\n",
              "    display: none;\n",
              "    fill: var(--fill-color);\n",
              "    height: 32px;\n",
              "    padding: 0;\n",
              "    width: 32px;\n",
              "  }\n",
              "\n",
              "  .colab-df-quickchart:hover {\n",
              "    background-color: var(--hover-bg-color);\n",
              "    box-shadow: 0 1px 2px rgba(60, 64, 67, 0.3), 0 1px 3px 1px rgba(60, 64, 67, 0.15);\n",
              "    fill: var(--button-hover-fill-color);\n",
              "  }\n",
              "\n",
              "  .colab-df-quickchart-complete:disabled,\n",
              "  .colab-df-quickchart-complete:disabled:hover {\n",
              "    background-color: var(--disabled-bg-color);\n",
              "    fill: var(--disabled-fill-color);\n",
              "    box-shadow: none;\n",
              "  }\n",
              "\n",
              "  .colab-df-spinner {\n",
              "    border: 2px solid var(--fill-color);\n",
              "    border-color: transparent;\n",
              "    border-bottom-color: var(--fill-color);\n",
              "    animation:\n",
              "      spin 1s steps(1) infinite;\n",
              "  }\n",
              "\n",
              "  @keyframes spin {\n",
              "    0% {\n",
              "      border-color: transparent;\n",
              "      border-bottom-color: var(--fill-color);\n",
              "      border-left-color: var(--fill-color);\n",
              "    }\n",
              "    20% {\n",
              "      border-color: transparent;\n",
              "      border-left-color: var(--fill-color);\n",
              "      border-top-color: var(--fill-color);\n",
              "    }\n",
              "    30% {\n",
              "      border-color: transparent;\n",
              "      border-left-color: var(--fill-color);\n",
              "      border-top-color: var(--fill-color);\n",
              "      border-right-color: var(--fill-color);\n",
              "    }\n",
              "    40% {\n",
              "      border-color: transparent;\n",
              "      border-right-color: var(--fill-color);\n",
              "      border-top-color: var(--fill-color);\n",
              "    }\n",
              "    60% {\n",
              "      border-color: transparent;\n",
              "      border-right-color: var(--fill-color);\n",
              "    }\n",
              "    80% {\n",
              "      border-color: transparent;\n",
              "      border-right-color: var(--fill-color);\n",
              "      border-bottom-color: var(--fill-color);\n",
              "    }\n",
              "    90% {\n",
              "      border-color: transparent;\n",
              "      border-bottom-color: var(--fill-color);\n",
              "    }\n",
              "  }\n",
              "</style>\n",
              "\n",
              "  <script>\n",
              "    async function quickchart(key) {\n",
              "      const quickchartButtonEl =\n",
              "        document.querySelector('#' + key + ' button');\n",
              "      quickchartButtonEl.disabled = true;  // To prevent multiple clicks.\n",
              "      quickchartButtonEl.classList.add('colab-df-spinner');\n",
              "      try {\n",
              "        const charts = await google.colab.kernel.invokeFunction(\n",
              "            'suggestCharts', [key], {});\n",
              "      } catch (error) {\n",
              "        console.error('Error during call to suggestCharts:', error);\n",
              "      }\n",
              "      quickchartButtonEl.classList.remove('colab-df-spinner');\n",
              "      quickchartButtonEl.classList.add('colab-df-quickchart-complete');\n",
              "    }\n",
              "    (() => {\n",
              "      let quickchartButtonEl =\n",
              "        document.querySelector('#df-c0917542-7eea-4147-8500-d15cb2e1b905 button');\n",
              "      quickchartButtonEl.style.display =\n",
              "        google.colab.kernel.accessAllowed ? 'block' : 'none';\n",
              "    })();\n",
              "  </script>\n",
              "</div>\n",
              "    </div>\n",
              "  </div>\n"
            ],
            "application/vnd.google.colaboratory.intrinsic+json": {
              "type": "dataframe",
              "variable_name": "final_df",
              "summary": "{\n  \"name\": \"final_df\",\n  \"rows\": 71810,\n  \"fields\": [\n    {\n      \"column\": \"call_transcript\",\n      \"properties\": {\n        \"dtype\": \"string\",\n        \"num_unique_values\": 71810,\n        \"samples\": [\n          \"\\n\\nAgent: Thank you for calling United Airlines customer service, this is Mark speaking. How may I help you today?\\n\\nCustomer: Hi Mark, yeah uh I'm calling about a flight I have scheduled next week. The flight number is UA1542 from Chicago to San Francisco.\\n\\nAgent: Okay, let me pull that flight up. *typing noises* Alright, I've got the flight details here. What seems to be the issue you're calling about?\\n\\nCustomer: Well uh, I'm actually gonna have to cancel that flight. Something came up and I won't be able to make the trip after all. So I was hoping to get a refund or maybe change it to a different date.\\n\\nAgent: I understand, things come up. Let me take a look at the refund policy for that route. *more typing* Unfortunately because it's within a week of departure, the ticket is non-refundable. However, we can change the dates for you for a $150 change fee, as long as the new travel is within the next year. Would you like me to go ahead and change the dates for you?\\n\\nCustomer: Umm yeah let me think for a second. *pause* What if I changed it to like next month instead of within a year? Would the fee still be $150 then?\\n\\nAgent: Let me double check the fee for changing it to next month specifically. *typing* It looks like the fee would actually be waived if you changed it to within the next 30 days. So if there's a flight next month that works better for you, I can go ahead and change it at no additional cost. Do you have any dates in mind?\\n\\nCustomer: Okay great, thanks. Let me pull up my calendar real quick... *longer pause with typing/rustling noises* Yeah is there anything available for like the first or second week of November? I'd like to go out there for a work thing if possible. \\n\\nAgent: No problem, take your time looking. *also quietly types for a bit* Alright, for the first week of November I'm seeing availability on November 3rd, leaving Chicago at 11am and getting into San Francisco at 1pm. How does that date work for you?\\n\\nCustomer: Hmm that date could work, let me double check with my coworkers real quick to make sure the timing will line up with our meetings out there... *phone rustling, muffled voices* Yeah that November 3rd flight looks good to me, I'll go ahead and change it to that.\\n\\nAgent: Great, I've gone ahead and processed the change for you. You should see the updated itinerary in your United account within the next 24 hours. Thanks for being so flexible on the dates - I'm happy we could get you rescheduled without any change fees. Please let me know if any other issues come up before your new travel date.\\n\\nCustomer: Okay awesome, thank you so much for your help Mark I really appreciate you changing that for me. Have a good rest of your day!\\n\\nAgent: You're very welcome, glad I could assist. Enjoy your trip to San Francisco! You have a good day as well.\\n\\nCustomer: Thanks, you too! Goodbye.\\n\\nAgent: Goodbye!\\n\\n*call disconnects*\",\n          \"\\n\\nAgent: Thank you for calling United Airlines, my name is Sarah, how may I help you today?\\n\\nCustomer: Hi Sarah, umm I'm calling about a flight I had booked from Chicago to Boston last week. It got delayed by a couple hours and I missed my connecting flight.\\n\\nAgent: I'm sorry to hear about that delay, what are the dates of your travels so I can take a look at your reservation? \\n\\nCustomer: It was last Thursday, May 12th. Flight number was UA1402, it was supposed to leave Chicago at 2pm but ended up leaving around 4pm.\\n\\nAgent: Okay, let me pull up your reservation. *typing sounds* Yep, I see here your flight from Chicago to Boston was delayed due to bad weather in Chicago that day. The flight ended up departing at 4:17pm instead of the scheduled 2pm time. I understand that must have caused you to miss your connecting flight to your final destination. One moment while I take a look at our policies in this situation. *longer pause as agent reviews policies* So based on the delay being due to weather, which is considered a controllable delay by United, you would be eligible for a one-time goodwill gesture from us due to the missed connection. I can offer to refund your ticket for that flight, or apply the amount as a travel credit to use for a future booking. Which option would you prefer?\\n\\nCustomer: Hmm that's really nice of you guys to offer one of those options as a goodwill gesture. I think I'll go with the travel credit if that's ok, I'm sure to fly United again at some point in the next year. It'll be nice to have that credit available. \\n\\nAgent: Absolutely, I've gone ahead and processed a full travel credit for the value of your May 12th ticket. The credit will be valid for one year from today and can be used for future United flights. The reference number for that is CR348921. Please keep that on hand in case you need it when booking your next trip. I'm glad we could resolve this situation to your satisfaction. Thank you for understanding about the weather delay causing your missed connection. Is there anything else I can help with today?\\n\\nCustomer: No, I think that covers it. Thanks so much for your help, Sarah. I appreciate you taking the time to look into this and provide that travel credit. It will definitely be used.\\n\\nAgent: You're very welcome, have a great rest of your day!\\n\\nCustomer: You too, thanks again and bye!\\n\\nAgent: Goodbye!\",\n          \"\\n\\nAgent: Thank you for calling United Airlines, this is Steve how can I help you today?\\n\\nCustomer: Hi Steve, yeah I'm calling because I have a flight booked from Chicago to New York next week and I was hoping to change it. *sigh* This work thing has come up last minute and I need to fly out a day earlier.\\n\\nAgent: I understand, last minute changes can be frustrating. Let me take a look at your booking and see what I can do for you. What's the name the reservation is under?\\n\\nCustomer: It's under John Smith. The original flight was supposed to leave next Thursday.\\n\\nAgent: Okay, let me pull that up... *typing sounds* Alright, I've got your reservation here Mr. Smith. It looks like the flight you booked is pretty full for the day before. Let me check some alternate flight options... *more typing* Hmm, the only option I see is a late afternoon flight that leaves at 4pm, would that work for your schedule?\\n\\nCustomer: Ugh yeah I think that could work, but is it going to cost me a lot more to change it last minute like this? Money is a bit tight with everything going on.\\n\\nAgent: I understand the financial concerns. Unfortunately because it is within 7 days of travel, there would be a change fee applied. The good news is because this flight is still fairly full, the fare difference is only an additional $100 on top of the standard $200 change fee. So your new total would be $300 to switch to that earlier flight. Does that work for your budget?\\n\\nCustomer: *sighs* Yeah I guess $300 is better than having to reschedule the whole work thing. Alright, go ahead and change it for me then.\\n\\nAgent: No problem, I'm happy I could find an option that works. Let me go ahead and process that change for you... *typing sounds* Okay, all set! You're now booked on the 4pm flight next Wednesday. You'll receive an email confirmation shortly. Do you need anything else from me today?\\n\\nCustomer: No, I think that covers it. Thanks so much for your help, Steve. I really appreciate you finding a solution on short notice.\\n\\nAgent: You're very welcome, Mr. Smith. Happy I could assist with the change. Safe travels and enjoy your trip to New York. Have a great rest of your day!\\n\\nCustomer: You too, thanks again! *call disconnects*\\n\\nAgent: *sigh of relief* Next! *keyboard typing, phone ringing in background* Thank you for calling United Airlines, this is Steve how can I help you today?\"\n        ],\n        \"semantic_type\": \"\",\n        \"description\": \"\"\n      }\n    },\n    {\n      \"column\": \"customer_tone\",\n      \"properties\": {\n        \"dtype\": \"category\",\n        \"num_unique_values\": 5,\n        \"samples\": [\n          \"neutral\",\n          \"calm\",\n          \"polite\"\n        ],\n        \"semantic_type\": \"\",\n        \"description\": \"\"\n      }\n    }\n  ]\n}"
            }
          },
          "metadata": {},
          "execution_count": 15
        }
      ]
    },
    {
      "cell_type": "markdown",
      "source": [
        "делаем энкодер лейблов"
      ],
      "metadata": {
        "id": "ejFay4d6cTuM"
      }
    },
    {
      "cell_type": "code",
      "source": [
        "from sklearn import preprocessing\n",
        "\n",
        "le = preprocessing.LabelEncoder()\n",
        "le.fit(final_df.customer_tone)\n",
        "final_df['customer_tone'] = le.transform(final_df.customer_tone)"
      ],
      "metadata": {
        "id": "hq9jz26qcV8k"
      },
      "execution_count": 16,
      "outputs": []
    },
    {
      "cell_type": "markdown",
      "source": [
        "обрезаем датасет, т.к. слишком большие размеры"
      ],
      "metadata": {
        "id": "QLkYP_D5cYYj"
      }
    },
    {
      "cell_type": "code",
      "source": [
        "final_df = final_df[:4000]"
      ],
      "metadata": {
        "id": "CClO9mLCccv4"
      },
      "execution_count": 26,
      "outputs": []
    },
    {
      "cell_type": "markdown",
      "source": [
        "Определяем токенайзер\n",
        "\n",
        "- Инициализация: Класс загружает эмбеддинги из файла GloVe, добавляет специальные токены (unk, pad), если они указаны.\n",
        "- Токенизация и преобразование: При помощи метода doc_to_sequence можно преобразовать строку текста в числовые индексы, которые затем можно использовать."
      ],
      "metadata": {
        "id": "JUrtRPbtXa9D"
      }
    },
    {
      "cell_type": "code",
      "source": [
        "import spacy\n",
        "from spacy.tokens import Doc\n",
        "from spacy import displacy\n",
        "from scipy.sparse import coo_matrix\n",
        "\n",
        "\n",
        "class Tokenizer(object):\n",
        "    def __init__(self, word2idx=None, nlp_model=\"en_core_web_sm\"):\n",
        "        # https://spacy.io/docs/usage/processing-text\n",
        "        self.nlp = spacy.load(nlp_model)\n",
        "        if word2idx is None:\n",
        "            self.word2idx = {}\n",
        "            self.idx2word = {}\n",
        "            self.idx = 0\n",
        "            self.word2idx['<pad>'] = self.idx  # '<pad>': 0\n",
        "            self.idx2word[self.idx] = '<pad>'\n",
        "            self.idx += 1\n",
        "            self.word2idx['<unk>'] = self.idx  # '<unk>': 1\n",
        "            self.idx2word[self.idx] = '<unk>'\n",
        "            self.idx += 1\n",
        "        else:\n",
        "            self.word2idx = word2idx\n",
        "            self.idx2word = {v:k for k,v in word2idx.items()}\n",
        "\n",
        "    def fit_on_doc(self, doc:spacy.tokens.doc.Doc):\n",
        "        for word in doc:\n",
        "            word = str(word).lower()\n",
        "            if word not in self.word2idx:\n",
        "                self.word2idx[word] = self.idx\n",
        "                self.idx2word[self.idx] = word\n",
        "                self.idx += 1\n",
        "\n",
        "    def text_to_doc(self, text):\n",
        "        return self.nlp(text)\n",
        "\n",
        "    def doc_to_sequence(self, doc:spacy.tokens.doc.Doc):\n",
        "        sequence = []\n",
        "        for w in doc:\n",
        "            w = str(w).lower()\n",
        "            word_id = self.word2idx.get(w, -1)\n",
        "            if word_id == -1:\n",
        "                word_id = self.word2idx['<unk>']\n",
        "            sequence.append(word_id)\n",
        "        if len(sequence) == 0:\n",
        "            sequence = [0]\n",
        "        return np.array(sequence, dtype=np.int32)\n",
        "\n",
        "    def doc_to_adj(self, doc:spacy.tokens.doc.Doc):\n",
        "        matrix = np.zeros((len(doc), len(doc))).astype('int32')\n",
        "        for token in doc:\n",
        "            for child in token.children:\n",
        "                matrix[token.i][child.i] = 1\n",
        "                matrix[child.i][token.i] = 1\n",
        "        return matrix"
      ],
      "metadata": {
        "id": "ET7Ow3elOkxA"
      },
      "execution_count": 18,
      "outputs": []
    },
    {
      "cell_type": "code",
      "source": [
        "from tqdm import tqdm\n",
        "import numpy as np\n",
        "\n",
        "tokenizer = Tokenizer()\n",
        "\n",
        "idx2graph = {}\n",
        "for i in tqdm(range(final_df.shape[0])):\n",
        "    text = final_df.call_transcript[i].lower().replace(\"\\n\", \"\").strip()\n",
        "    doc = tokenizer.text_to_doc(text)\n",
        "    tokenizer.fit_on_doc(doc)\n",
        "    adj_matrix = tokenizer.doc_to_adj(doc)\n",
        "    coo = coo_matrix(adj_matrix)\n",
        "    idx2graph[i] = np.array([coo.row, coo.col], dtype=np.int32)\n",
        "\n"
      ],
      "metadata": {
        "colab": {
          "base_uri": "https://localhost:8080/"
        },
        "id": "HpP6LqFaVIYS",
        "outputId": "588643b3-15de-4a3c-f355-a8809b6e1cb3"
      },
      "execution_count": 27,
      "outputs": [
        {
          "output_type": "stream",
          "name": "stderr",
          "text": [
            "100%|██████████| 4000/4000 [10:34<00:00,  6.30it/s]\n"
          ]
        }
      ]
    },
    {
      "cell_type": "markdown",
      "source": [
        "Example of tokenizer"
      ],
      "metadata": {
        "id": "ehBxvQtRY2KZ"
      }
    },
    {
      "cell_type": "code",
      "source": [
        "final_df['call_transcript'][50]"
      ],
      "metadata": {
        "colab": {
          "base_uri": "https://localhost:8080/",
          "height": 139
        },
        "id": "JZVW2s9FYrHJ",
        "outputId": "776a6a16-d6b5-46ab-9559-4cab3bbe924b"
      },
      "execution_count": 28,
      "outputs": [
        {
          "output_type": "execute_result",
          "data": {
            "text/plain": [
              "\"\\n\\nAgent: Thank you for calling United Airlines customer service, my name is Sarah how can I help you?\\n\\nCustomer: Hi, I'm calling to complain about my missing luggage from flight 123 yesterday. I landed and my bag was nowhere to be found. It's been over 24 hours now and I still don't have it!\\n\\nAgent: I'm sorry to hear that. Can you confirm your name and flight details for me please so I can take a look into this? \\n\\nCustomer: It's John Smith, flight number 123 from New York to San Francisco, I arrived yesterday at 5pm. \\n\\nAgent: Thanks, just let me pull up your record... *typing noises* okay I see the flight information here. It looks like your bag was delayed in transferring from the inbound flight. These things unfortunately happen sometimes with connecting flights. Let me check the status... it looks like your bag is still at JFK airport waiting to come out on the next flight today. I apologize for the inconvenience. \\n\\nCustomer: Are you kidding me? Waiting until today? I've been without my clothes and toiletries this whole time. Your airline lost my bag, this is unacceptable service. \\n\\nAgent: You're right, sir, this is definitely not the level of service we aim to provide. Losing bags is never okay. Umm... let me see what I can do to help make this right. *more typing* It looks like I can have your bag rushed on the next flight out, which is in about 2 hours. I'll also compensate you $100 for the delay and any essential items you had to replace. How does that sound?\\n\\nCustomer: I guess it'll have to do but you better get that bag on that flight. And I better get more than $100 for this hassle! Do you have any idea how inconvenient this has been? \\n\\nAgent: I understand your frustration, sir. Let me see if there's anything else I can offer... Ah, it looks like I'm also able to get you set up in a hotel for the night, with breakfast included, since you're without your overnight items. And I'll increase the compensation to $200. Will that help make the situation a little better until you get your bag back? \\n\\nCustomer: Fine, I suppose that will have to do for now. But you guys really need to work on getting bags where they need to go on time. This can't keep happening.\\n\\nAgent: You're absolutely right, we need to do better. I appreciate you taking the time to provide feedback - it will help us to continue improving our operations. I'll be sure to note your comments on the report. In the meantime, thank you for your patience. I'll call you as soon as I have confirmation your bag has taken off. Please let me know if there's anything else I can assist with today.\\n\\nCustomer: Okay, thank you. *hangs up phone abruptly* \\n\\nAgent: *sighs* You're welcome sir. Have a good rest of your day. *ends call*\\n\\nSo in summary - the customer was understandably angry about missing his bag, but the agent remained calm and was able to compromise by rushing the bag, providing a hotel and increased compensation. The call took around 11 minutes to resolve while addressing the customer's frustrations. Let me know if any other details would be helpful!\""
            ],
            "application/vnd.google.colaboratory.intrinsic+json": {
              "type": "string"
            }
          },
          "metadata": {},
          "execution_count": 28
        }
      ]
    },
    {
      "cell_type": "code",
      "source": [
        "doc = tokenizer.text_to_doc(final_df['call_transcript'][50])\n",
        "tokenizer.doc_to_sequence(doc)"
      ],
      "metadata": {
        "id": "LlDD8o-4YnSC"
      },
      "execution_count": null,
      "outputs": []
    },
    {
      "cell_type": "code",
      "source": [
        "text = final_df.call_transcript[1].lower().replace(\"\\n\", \"\").strip()\n",
        "doc = tokenizer.nlp(text)\n",
        "print (\"{:<15} | {:<8} | {:<15} | {:<20}\".format('Token','Relation','Head', 'Children'))\n",
        "print (\"-\" * 70)\n",
        "for token in doc:\n",
        "  print (\"{:<15} | {:<8} | {:<15} | {:<20}\"\n",
        "         .format(str(token.text), str(token.dep_), str(token.head.text), str([child for child in token.children])))"
      ],
      "metadata": {
        "id": "kQ0Osp0_aAhY",
        "colab": {
          "base_uri": "https://localhost:8080/"
        },
        "outputId": "15faa713-73d3-454c-c088-2843741e9edf"
      },
      "execution_count": 31,
      "outputs": [
        {
          "output_type": "stream",
          "name": "stdout",
          "text": [
            "Token           | Relation | Head            | Children            \n",
            "----------------------------------------------------------------------\n",
            "agent           | npadvmod | thank           | []                  \n",
            ":               | punct    | thank           | []                  \n",
            "thank           | ROOT     | thank           | [agent, :, you, for, ,, is]\n",
            "you             | dobj     | thank           | []                  \n",
            "for             | prep     | thank           | [calling]           \n",
            "calling         | pcomp    | for             | [airlines]          \n",
            "united          | compound | airlines        | []                  \n",
            "airlines        | dobj     | calling         | [united]            \n",
            ",               | punct    | thank           | []                  \n",
            "my              | poss     | name            | []                  \n",
            "name            | nsubj    | is              | [my]                \n",
            "is              | conj     | thank           | [name, sam, help]   \n",
            "sam             | attr     | is              | []                  \n",
            ",               | punct    | help            | []                  \n",
            "how             | advmod   | help            | []                  \n",
            "can             | aux      | help            | []                  \n",
            "i               | nsubj    | help            | []                  \n",
            "help            | ccomp    | is              | [,, how, can, i, you, today?customer, :]\n",
            "you             | dobj     | help            | []                  \n",
            "today?customer  | punct    | help            | []                  \n",
            ":               | punct    | help            | []                  \n",
            "hi              | ROOT     | hi              | []                  \n",
            "sam             | ROOT     | sam             | [,]                 \n",
            ",               | punct    | sam             | []                  \n",
            "yeah            | ROOT     | yeah            | []                  \n",
            "i               | nsubj    | calling         | []                  \n",
            "'m              | aux      | calling         | []                  \n",
            "calling         | ROOT     | calling         | [i, 'm, need, .]    \n",
            "because         | mark     | need            | []                  \n",
            "i               | nsubj    | need            | []                  \n",
            "need            | advcl    | calling         | [because, i, change]\n",
            "to              | aux      | change          | []                  \n",
            "change          | xcomp    | need            | [to, dates, on]     \n",
            "the             | det      | dates           | []                  \n",
            "dates           | dobj     | change          | [the]               \n",
            "on              | prep     | change          | [flight]            \n",
            "my              | poss     | flight          | []                  \n",
            "upcoming        | amod     | flight          | []                  \n",
            "flight          | pobj     | on              | [my, upcoming]      \n",
            ".               | punct    | calling         | []                  \n",
            "my              | poss     | flight          | []                  \n",
            "flight          | nsubjpass | booked          | [my]                \n",
            "is              | auxpass  | booked          | []                  \n",
            "booked          | ROOT     | booked          | [flight, is, for, but, let]\n",
            "for             | prep     | booked          | [thursday]          \n",
            "next            | amod     | thursday        | []                  \n",
            "thursday        | pobj     | for             | [next]              \n",
            "but             | cc       | booked          | []                  \n",
            "something       | nsubj    | came            | []                  \n",
            "came            | ccomp    | let             | [something, up, and, need, :]\n",
            "up              | prt      | came            | []                  \n",
            "and             | cc       | came            | []                  \n",
            "i               | nsubj    | need            | []                  \n",
            "need            | conj     | came            | [i, fly]            \n",
            "to              | aux      | fly             | []                  \n",
            "fly             | xcomp    | need            | [to, out, on]       \n",
            "out             | prt      | fly             | []                  \n",
            "on              | prep     | fly             | [monday]            \n",
            "monday          | pobj     | on              | [instead.agent]     \n",
            "instead.agent   | nummod   | monday          | []                  \n",
            ":               | punct    | came            | []                  \n",
            "no              | det      | problem         | []                  \n",
            "problem         | nsubj    | let             | [no]                \n",
            ",               | punct    | let             | []                  \n",
            "let             | conj     | booked          | [came, problem, ,, pull, .]\n",
            "me              | nsubj    | pull            | []                  \n",
            "pull            | ccomp    | let             | [me, up, reservation, take]\n",
            "up              | prt      | pull            | []                  \n",
            "your            | poss     | reservation     | []                  \n",
            "reservation     | dobj     | pull            | [your]              \n",
            "so              | mark     | take            | []                  \n",
            "i               | nsubj    | take            | []                  \n",
            "can             | aux      | take            | []                  \n",
            "take            | advcl    | pull            | [so, i, can, look]  \n",
            "a               | det      | look            | []                  \n",
            "look            | dobj     | take            | [a]                 \n",
            ".               | punct    | let             | []                  \n",
            "can             | aux      | get             | []                  \n",
            "i               | nsubj    | get             | []                  \n",
            "get             | ROOT     | get             | [can, i, name, please, ?]\n",
            "your            | poss     | name            | []                  \n",
            "last            | amod     | name            | []                  \n",
            "name            | dobj     | get             | [your, last, and, number]\n",
            "and             | cc       | name            | []                  \n",
            "confirmation    | compound | number          | []                  \n",
            "number          | conj     | name            | [confirmation]      \n",
            "please          | intj     | get             | []                  \n",
            "?               | punct    | get             | []                  \n",
            "customer        | nsubj    | is              | [:]                 \n",
            ":               | punct    | customer        | []                  \n",
            "sure            | advmod   | is              | []                  \n",
            ",               | punct    | is              | []                  \n",
            "last            | amod     | name            | []                  \n",
            "name            | nsubj    | is              | [last]              \n",
            "is              | ccomp    | is              | [customer, sure, ,, name, smith]\n",
            "smith           | attr     | is              | []                  \n",
            ",               | punct    | is              | []                  \n",
            "confirmation    | compound | number          | []                  \n",
            "number          | nsubj    | is              | [confirmation]      \n",
            "is              | ROOT     | is              | [is, ,, number, asdf456, .]\n",
            "asdf456         | attr     | is              | []                  \n",
            ".               | punct    | is              | []                  \n",
            "*               | nsubj    | makes           | []                  \n",
            "makes           | ccomp    | being           | [*, noise, in, sorry]\n",
            "noise           | dobj     | makes           | []                  \n",
            "in              | prep     | makes           | [background]        \n",
            "background      | pobj     | in              | []                  \n",
            "*               | nsubj    | sorry           | []                  \n",
            "sorry           | ccomp    | makes           | [*]                 \n",
            ",               | punct    | being           | []                  \n",
            "the             | det      | kids            | []                  \n",
            "kids            | nsubj    | being           | [the]               \n",
            "are             | aux      | being           | []                  \n",
            "being           | ROOT     | being           | [makes, ,, kids, are, loud, here, .]\n",
            "loud            | acomp    | being           | []                  \n",
            "over            | advmod   | here            | []                  \n",
            "here            | advmod   | being           | [over]              \n",
            ".               | punct    | being           | []                  \n",
            "agent           | nsubj    | let             | [:, worries]        \n",
            ":               | punct    | agent           | []                  \n",
            "no              | det      | worries         | []                  \n",
            "worries         | appos    | agent           | [no]                \n",
            ",               | punct    | let             | []                  \n",
            "let             | ROOT     | let             | [agent, ,, see, ...]\n",
            "me              | nsubj    | see             | []                  \n",
            "see             | ccomp    | let             | [me]                \n",
            "...             | punct    | let             | []                  \n",
            "okay            | intj     | got             | []                  \n",
            "mr              | compound | smith           | []                  \n",
            ".               | compound | smith           | []                  \n",
            "smith           | nsubj    | got             | [mr, .]             \n",
            ",               | punct    | got             | []                  \n",
            "i               | nsubj    | got             | []                  \n",
            "'ve             | aux      | got             | []                  \n",
            "got             | ROOT     | got             | [okay, smith, ,, i, 've, reservation, here, for, thursday, .]\n",
            "your            | poss     | reservation     | []                  \n",
            "reservation     | dobj     | got             | [your]              \n",
            "here            | advmod   | got             | []                  \n",
            "for             | prep     | got             | [ua128]             \n",
            "flight          | compound | ua128           | []                  \n",
            "ua128           | pobj     | for             | [flight]            \n",
            "next            | amod     | thursday        | []                  \n",
            "thursday        | npadvmod | got             | [next]              \n",
            ".               | punct    | got             | []                  \n",
            "just            | advmod   | giving          | []                  \n",
            "giving          | advcl    | looks           | [just, availability, check, ..., umm]\n",
            "the             | det      | availability    | []                  \n",
            "availability    | dative   | giving          | [the]               \n",
            "a               | det      | check           | []                  \n",
            "check           | dobj     | giving          | [a, for]            \n",
            "for             | prep     | check           | [monday]            \n",
            "monday          | pobj     | for             | []                  \n",
            "...             | punct    | giving          | []                  \n",
            "umm             | dative   | giving          | []                  \n",
            "it              | nsubj    | looks           | []                  \n",
            "looks           | ROOT     | looks           | [giving, it, have, .]\n",
            "like            | mark     | have            | []                  \n",
            "we              | nsubj    | have            | []                  \n",
            "do              | aux      | have            | []                  \n",
            "have            | advcl    | looks           | [like, we, do, seats, on]\n",
            "seats           | dobj     | have            | [available]         \n",
            "available       | amod     | seats           | []                  \n",
            "on              | prep     | have            | [flight]            \n",
            "a               | det      | flight          | []                  \n",
            "flight          | pobj     | on              | [a, leaving]        \n",
            "leaving         | acl      | flight          | [day]               \n",
            "earlier         | advmod   | day             | []                  \n",
            "that            | det      | day             | []                  \n",
            "day             | npadvmod | leaving         | [earlier, that]     \n",
            ".               | punct    | looks           | []                  \n",
            "the             | det      | fare            | []                  \n",
            "fare            | nsubj    | be              | [the]               \n",
            "would           | aux      | be              | []                  \n",
            "be              | ROOT     | be              | [fare, would, 100, way, though, .]\n",
            "an              | det      | 100             | []                  \n",
            "additional      | amod     | 100             | []                  \n",
            "$               | nmod     | 100             | []                  \n",
            "100             | attr     | be              | [an, additional, $] \n",
            "each            | det      | way             | []                  \n",
            "way             | npadvmod | be              | [each]              \n",
            "though          | advmod   | be              | []                  \n",
            ".               | punct    | be              | []                  \n",
            "how             | advmod   | work            | []                  \n",
            "does            | aux      | work            | []                  \n",
            "that            | nsubj    | work            | []                  \n",
            "work            | ROOT     | work            | [how, does, that, for, ?]\n",
            "for             | prep     | work            | [man]               \n",
            "you?customer    | nmod     | man             | [:, ah]             \n",
            ":               | punct    | you?customer    | []                  \n",
            "ah              | punct    | you?customer    | []                  \n",
            "man             | pobj     | for             | [you?customer, ,, 100]\n",
            ",               | punct    | man             | []                  \n",
            "an              | det      | 100             | []                  \n",
            "extra           | amod     | 100             | []                  \n",
            "$               | nmod     | 100             | []                  \n",
            "100             | appos    | man             | [an, extra, $]      \n",
            "?               | punct    | work            | []                  \n",
            "that            | nsubj    | 's              | []                  \n",
            "'s              | ROOT     | 's              | [that, more, .]     \n",
            "more            | acomp    | 's              | [hoping]            \n",
            "than            | mark     | hoping          | []                  \n",
            "i               | nsubj    | hoping          | []                  \n",
            "was             | aux      | hoping          | []                  \n",
            "hoping          | advcl    | more            | [than, i, was, pay] \n",
            "to              | aux      | pay             | []                  \n",
            "pay             | xcomp    | hoping          | [to]                \n",
            ".               | punct    | 's              | []                  \n",
            "is              | ROOT     | is              | [there, way, ?]     \n",
            "there           | expl     | is              | []                  \n",
            "any             | det      | way             | []                  \n",
            "way             | attr     | is              | [any, get]          \n",
            "to              | aux      | get             | []                  \n",
            "get             | relcl    | way             | [to, on, for]       \n",
            "on              | prep     | get             | [flight]            \n",
            "that            | det      | flight          | []                  \n",
            "flight          | pobj     | on              | [that]              \n",
            "for             | prep     | get             | [price]             \n",
            "the             | det      | price           | []                  \n",
            "same            | amod     | price           | []                  \n",
            "price           | pobj     | for             | [the, same, as]     \n",
            "as              | prep     | price           | [ticket]            \n",
            "my              | poss     | ticket          | []                  \n",
            "original        | amod     | ticket          | []                  \n",
            "ticket          | pobj     | as              | [my, original]      \n",
            "?               | punct    | is              | []                  \n",
            "money           | nsubj    | is              | []                  \n",
            "is              | ROOT     | is              | [money, tight, now, .]\n",
            "a               | det      | little          | []                  \n",
            "little          | amod     | tight           | [a]                 \n",
            "tight           | acomp    | is              | [little]            \n",
            "right           | advmod   | now             | []                  \n",
            "now             | advmod   | is              | [right]             \n",
            ".               | punct    | is              | []                  \n",
            "agent           | dep      | incur           | []                  \n",
            ":               | punct    | incur           | []                  \n",
            "i               | nsubj    | understand      | []                  \n",
            "understand      | parataxis | incur           | [i, ,]              \n",
            ",               | punct    | understand      | []                  \n",
            "flight          | compound | changes         | []                  \n",
            "changes         | nsubj    | incur           | [flight]            \n",
            "usually         | advmod   | do              | []                  \n",
            "do              | aux      | incur           | [usually]           \n",
            "incur           | ROOT     | incur           | [agent, :, understand, changes, do, fee, unfortunately, .]\n",
            "a               | det      | fee             | []                  \n",
            "fee             | dobj     | incur           | [a]                 \n",
            "unfortunately   | advmod   | incur           | []                  \n",
            ".               | punct    | incur           | []                  \n",
            "let             | ROOT     | let             | [take, ...]         \n",
            "me              | nsubj    | take            | []                  \n",
            "take            | ccomp    | let             | [me, look]          \n",
            "a               | det      | look            | []                  \n",
            "look            | dobj     | take            | [a, at]             \n",
            "at              | prep     | look            | [options]           \n",
            "some            | det      | options         | []                  \n",
            "other           | amod     | options         | []                  \n",
            "options         | pobj     | at              | [some, other]       \n",
            "...             | punct    | let             | []                  \n",
            "hmm             | intj     | looks           | []                  \n",
            "it              | nsubj    | looks           | []                  \n",
            "looks           | ROOT     | looks           | [hmm, it, leaves, .]\n",
            "like            | mark     | leaves          | []                  \n",
            "the             | det      | flight          | []                  \n",
            "only            | amod     | flight          | []                  \n",
            "flight          | nsubj    | leaves          | [the, only, on, have]\n",
            "on              | prep     | flight          | [monday]            \n",
            "monday          | pobj     | on              | []                  \n",
            "that            | nsubj    | have            | []                  \n",
            "would           | aux      | have            | []                  \n",
            "n't             | neg      | have            | []                  \n",
            "have            | relcl    | flight          | [that, would, n't, increase]\n",
            "a               | det      | increase        | []                  \n",
            "fare            | amod     | increase        | []                  \n",
            "increase        | dobj     | have            | [a, fare]           \n",
            "leaves          | advcl    | looks           | [like, flight, later, in]\n",
            "quite           | advmod   | bit             | []                  \n",
            "a               | det      | bit             | []                  \n",
            "bit             | npadvmod | later           | [quite, a]          \n",
            "later           | advmod   | leaves          | [bit]               \n",
            "in              | prep     | leaves          | [evening]           \n",
            "the             | det      | evening         | []                  \n",
            "evening         | pobj     | in              | [the]               \n",
            ".               | punct    | looks           | []                  \n",
            "would           | aux      | work            | []                  \n",
            "a               | det      | work            | []                  \n",
            "9               | nummod   | pm              | []                  \n",
            "pm              | compound | work            | [9]                 \n",
            "departure       | compound | work            | []                  \n",
            "work            | ROOT     | work            | [would, a, pm, departure, of, mid, -, day, flight?customer, :]\n",
            "instead         | advmod   | of              | []                  \n",
            "of              | cc       | work            | [instead]           \n",
            "the             | det      | mid             | []                  \n",
            "original        | amod     | mid             | []                  \n",
            "mid             | conj     | work            | [the, original]     \n",
            "-               | dobj     | work            | []                  \n",
            "day             | npadvmod | work            | []                  \n",
            "flight?customer | punct    | work            | []                  \n",
            ":               | punct    | work            | []                  \n",
            "ehh             | intj     | 's              | []                  \n",
            "that            | nsubj    | 's              | []                  \n",
            "'s              | ROOT     | 's              | [ehh, that, late, .]\n",
            "pretty          | advmod   | late            | []                  \n",
            "late            | acomp    | 's              | [pretty]            \n",
            ".               | punct    | 's              | []                  \n",
            "i               | nsubj    | trying          | []                  \n",
            "was             | aux      | trying          | []                  \n",
            "trying          | ROOT     | trying          | [i, was, get]       \n",
            "to              | aux      | get             | []                  \n",
            "get             | xcomp    | trying          | [to, flight]        \n",
            "an              | det      | flight          | []                  \n",
            "earlier         | amod     | flight          | []                  \n",
            "flight          | dobj     | get             | [an, earlier]       \n",
            "so              | mark     | have            | []                  \n",
            "i               | nsubj    | have            | []                  \n",
            "have            | ROOT     | have            | [so, i, time, .]    \n",
            "more            | amod     | time            | []                  \n",
            "time            | dobj     | have            | [more, land]        \n",
            "once            | mark     | land            | []                  \n",
            "i               | nsubj    | land            | []                  \n",
            "land            | advcl    | time            | [once, i]           \n",
            ".               | punct    | have            | []                  \n",
            "what            | ROOT     | what            | [moved, ?]          \n",
            "if              | mark     | moved           | []                  \n",
            "i               | nsubj    | moved           | []                  \n",
            "moved           | advcl    | what            | [if, i, date, back, of]\n",
            "my              | poss     | date            | []                  \n",
            "return          | compound | date            | []                  \n",
            "date            | dobj     | moved           | [my, return]        \n",
            "back            | advmod   | moved           | []                  \n",
            "instead         | advmod   | of              | []                  \n",
            "of              | prep     | moved           | [instead, changing] \n",
            "changing        | pcomp    | of              | [departure]         \n",
            "the             | det      | departure       | []                  \n",
            "departure       | dobj     | changing        | [the]               \n",
            "?               | punct    | what            | []                  \n",
            "would           | aux      | avoid           | []                  \n",
            "that            | nsubj    | avoid           | []                  \n",
            "avoid           | advcl    | let             | [would, that, thinking]\n",
            "the             | det      | thinking        | []                  \n",
            "extra           | amod     | thinking        | []                  \n",
            "cost?agent      | nmod     | thinking        | []                  \n",
            ":               | punct    | thinking        | []                  \n",
            "good            | amod     | thinking        | []                  \n",
            "thinking        | dobj     | avoid           | [the, extra, cost?agent, :, good]\n",
            ",               | punct    | let             | []                  \n",
            "let             | ROOT     | let             | [avoid, ,, check, ...]\n",
            "me              | nsubj    | check           | []                  \n",
            "check           | ccomp    | let             | [me, dates]         \n",
            "return          | compound | dates           | []                  \n",
            "dates           | dobj     | check           | [return]            \n",
            "...             | punct    | let             | []                  \n",
            "*               | punct    | types           | []                  \n",
            "types           | ROOT     | types           | [*, silently, for, *]\n",
            "silently        | advmod   | types           | []                  \n",
            "for             | prep     | types           | [seconds]           \n",
            "a               | det      | seconds         | []                  \n",
            "few             | amod     | seconds         | []                  \n",
            "seconds         | pobj     | for             | [a, few]            \n",
            "*               | punct    | types           | []                  \n",
            "okay            | intj     | looks           | []                  \n",
            ",               | punct    | looks           | []                  \n",
            "it              | nsubj    | looks           | []                  \n",
            "looks           | ROOT     | looks           | [okay, ,, it, like, be, .]\n",
            "like            | intj     | looks           | []                  \n",
            "if              | mark     | move            | []                  \n",
            "you             | nsubj    | move            | []                  \n",
            "move            | advcl    | be              | [if, you, date, back]\n",
            "your            | poss     | date            | []                  \n",
            "return          | compound | date            | []                  \n",
            "date            | dobj     | move            | [your, return]      \n",
            "back            | advmod   | move            | [by]                \n",
            "by              | prep     | back            | [days]              \n",
            "two             | nummod   | days            | []                  \n",
            "days            | pobj     | by              | [two]               \n",
            "there           | expl     | be              | []                  \n",
            "would           | aux      | be              | []                  \n",
            "be              | ccomp    | looks           | [move, there, would, fee]\n",
            "no              | det      | fee             | []                  \n",
            "change          | compound | fee             | []                  \n",
            "fee             | attr     | be              | [no, change]        \n",
            ".               | punct    | looks           | []                  \n",
            "your            | poss     | flight          | []                  \n",
            "new             | amod     | flight          | []                  \n",
            "return          | compound | flight          | []                  \n",
            "flight          | nsubj    | be              | [your, new, return] \n",
            "would           | aux      | be              | []                  \n",
            "then            | advmod   | be              | []                  \n",
            "be              | ROOT     | be              | [flight, would, then, saturday, .]\n",
            "saturday        | attr     | be              | [of]                \n",
            "instead         | advmod   | of              | []                  \n",
            "of              | cc       | saturday        | [instead, thursday] \n",
            "thursday        | pobj     | of              | []                  \n",
            ".               | punct    | be              | []                  \n",
            "how             | advmod   | work            | []                  \n",
            "does            | aux      | work            | []                  \n",
            "that            | nsubj    | work            | []                  \n",
            "work            | ROOT     | work            | [how, does, that, for, :]\n",
            "for             | prep     | work            | [schedule?customer] \n",
            "your            | poss     | schedule?customer | []                  \n",
            "schedule?customer | pobj     | for             | [your]              \n",
            ":               | punct    | work            | []                  \n",
            "saturday        | compound | return          | []                  \n",
            "return          | nsubj    | works           | [saturday]          \n",
            "works           | ROOT     | works           | [return, great, actually, ,, give, .]\n",
            "great           | advmod   | works           | []                  \n",
            "actually        | advmod   | works           | []                  \n",
            ",               | punct    | works           | []                  \n",
            "that            | nsubj    | give            | []                  \n",
            "'ll             | aux      | give            | []                  \n",
            "give            | ccomp    | works           | [that, 'll, me, time, there, too, is]\n",
            "me              | dative   | give            | []                  \n",
            "more            | amod     | time            | []                  \n",
            "time            | dobj     | give            | [more]              \n",
            "there           | advmod   | give            | []                  \n",
            "too             | advmod   | give            | []                  \n",
            "which           | nsubj    | is              | []                  \n",
            "is              | ccomp    | give            | [which, nice]       \n",
            "nice            | acomp    | is              | []                  \n",
            ".               | punct    | works           | []                  \n",
            "alright         | intj     | let             | []                  \n",
            ",               | punct    | let             | []                  \n",
            "let             | ROOT     | let             | [alright, ,, go, .] \n",
            "'s              | nsubj    | go              | []                  \n",
            "go              | ccomp    | let             | ['s, ahead, and, switch]\n",
            "ahead           | advmod   | go              | []                  \n",
            "and             | cc       | go              | []                  \n",
            "switch          | conj     | go              | [it, depart, but, return]\n",
            "it              | dobj     | switch          | []                  \n",
            "to              | aux      | depart          | []                  \n",
            "depart          | advcl    | switch          | [to, on]            \n",
            "on              | prep     | depart          | [date]              \n",
            "the             | det      | date            | []                  \n",
            "original        | amod     | date            | []                  \n",
            "date            | pobj     | on              | [the, original]     \n",
            "but             | cc       | switch          | []                  \n",
            "return          | conj     | switch          | [on, instead]       \n",
            "on              | prep     | return          | [saturday]          \n",
            "saturday        | pobj     | on              | []                  \n",
            "instead         | advmod   | return          | []                  \n",
            ".               | punct    | let             | []                  \n",
            "i               | nsubj    | appreciate      | []                  \n",
            "appreciate      | ROOT     | appreciate      | [i, looking, 'm, .] \n",
            "you             | nsubj    | looking         | []                  \n",
            "looking         | ccomp    | appreciate      | [you, into, avoid]  \n",
            "into            | prep     | looking         | [options]           \n",
            "some            | det      | options         | []                  \n",
            "options         | pobj     | into            | [some]              \n",
            "to              | aux      | avoid           | []                  \n",
            "avoid           | advcl    | looking         | [to, fees.agent]    \n",
            "the             | det      | fees.agent      | []                  \n",
            "extra           | amod     | fees.agent      | []                  \n",
            "fees.agent      | dobj     | avoid           | [the, extra, :, problem]\n",
            ":               | punct    | fees.agent      | []                  \n",
            "no              | det      | problem         | []                  \n",
            "problem         | appos    | fees.agent      | [no]                \n",
            ",               | punct    | 'm              | []                  \n",
            "i               | nsubj    | 'm              | []                  \n",
            "'m              | ccomp    | appreciate      | [,, i, glad]        \n",
            "glad            | acomp    | 'm              | [find]              \n",
            "we              | nsubj    | find            | []                  \n",
            "could           | aux      | find            | []                  \n",
            "find            | ccomp    | glad            | [we, could, solution]\n",
            "a               | det      | solution        | []                  \n",
            "solution        | dobj     | find            | [a, works]          \n",
            "that            | nsubj    | works           | []                  \n",
            "works           | relcl    | solution        | [that, with]        \n",
            "with            | prep     | works           | [schedule]          \n",
            "your            | poss     | schedule        | []                  \n",
            "schedule        | pobj     | with            | [your, and, budget] \n",
            "and             | cc       | schedule        | []                  \n",
            "budget          | conj     | schedule        | []                  \n",
            ".               | punct    | appreciate      | []                  \n",
            "okay            | intj     | made            | []                  \n",
            ",               | punct    | made            | []                  \n",
            "i               | nsubj    | made            | []                  \n",
            "'ve             | aux      | made            | []                  \n",
            "made            | ROOT     | made            | [okay, ,, i, 've, changes, to, .]\n",
            "those           | det      | changes         | []                  \n",
            "changes         | dobj     | made            | [those]             \n",
            "to              | prep     | made            | [itinerary]         \n",
            "your            | poss     | itinerary       | []                  \n",
            "itinerary       | pobj     | to              | [your]              \n",
            ".               | punct    | made            | []                  \n",
            "your            | poss     | reservation     | []                  \n",
            "new             | amod     | reservation     | []                  \n",
            "reservation     | nsubjpass | set             | [your, new]         \n",
            "is              | auxpass  | set             | []                  \n",
            "all             | dep      | set             | []                  \n",
            "set             | ROOT     | set             | [reservation, is, all, with, .]\n",
            "with            | prep     | set             | [departure]         \n",
            "a               | det      | departure       | []                  \n",
            "monday          | compound | departure       | []                  \n",
            "departure       | pobj     | with            | [a, monday, and, return]\n",
            "and             | cc       | departure       | []                  \n",
            "saturday        | compound | return          | []                  \n",
            "return          | conj     | departure       | [saturday]          \n",
            ".               | punct    | set             | []                  \n",
            "is              | ROOT     | is              | [there, anything, think]\n",
            "there           | expl     | is              | []                  \n",
            "anything        | attr     | is              | [else, help, :]     \n",
            "else            | advmod   | anything        | []                  \n",
            "i               | nsubj    | help            | []                  \n",
            "can             | aux      | help            | []                  \n",
            "help            | relcl    | anything        | [i, can, with]      \n",
            "with            | prep     | help            | [today?customer]    \n",
            "today?customer  | pobj     | with            | []                  \n",
            ":               | punct    | anything        | []                  \n",
            "no              | intj     | think           | []                  \n",
            ",               | punct    | think           | []                  \n",
            "i               | nsubj    | think           | []                  \n",
            "think           | parataxis | is              | [no, ,, i, covers, .]\n",
            "that            | nsubj    | covers          | []                  \n",
            "covers          | ccomp    | think           | [that, it]          \n",
            "it              | dobj     | covers          | []                  \n",
            ".               | punct    | think           | []                  \n",
            "thanks          | dep      | 're             | [much, for]         \n",
            "so              | advmod   | much            | []                  \n",
            "much            | advmod   | thanks          | [so]                \n",
            "for             | prep     | thanks          | [help]              \n",
            "your            | poss     | help            | []                  \n",
            "help            | pobj     | for             | [your]              \n",
            ",               | punct    | sam!agent       | []                  \n",
            "sam!agent       | dep      | 're             | [,, :]              \n",
            ":               | punct    | sam!agent       | []                  \n",
            "you             | nsubj    | 're             | []                  \n",
            "'re             | ROOT     | 're             | [thanks, sam!agent, you, welcome, .]\n",
            "very            | advmod   | welcome         | []                  \n",
            "welcome         | acomp    | 're             | [very]              \n",
            ".               | punct    | 're             | []                  \n",
            "enjoy           | ROOT     | enjoy           | [trip, and, have, !]\n",
            "your            | poss     | trip            | []                  \n",
            "trip            | dobj     | enjoy           | [your]              \n",
            "and             | cc       | enjoy           | []                  \n",
            "have            | conj     | enjoy           | [rest, too, ,, thanks, again]\n",
            "a               | det      | rest            | []                  \n",
            "great           | amod     | rest            | []                  \n",
            "rest            | dobj     | have            | [a, great, of, :, you]\n",
            "of              | prep     | rest            | [day!customer]      \n",
            "your            | poss     | day!customer    | []                  \n",
            "day!customer    | pobj     | of              | [your]              \n",
            ":               | punct    | rest            | []                  \n",
            "you             | appos    | rest            | []                  \n",
            "too             | advmod   | have            | []                  \n",
            ",               | punct    | have            | []                  \n",
            "thanks          | npadvmod | have            | []                  \n",
            "again           | advmod   | have            | []                  \n",
            "!               | punct    | enjoy           | []                  \n",
            "*               | punct    | hangs           | []                  \n",
            "hangs           | ccomp    | thank           | [*, up*agent]       \n",
            "up*agent        | acomp    | hangs           | []                  \n",
            ":               | punct    | thank           | []                  \n",
            "thank           | ROOT     | thank           | [hangs, :, you, for, ,, have, !]\n",
            "you             | dobj     | thank           | []                  \n",
            "for             | prep     | thank           | [calling]           \n",
            "calling         | pcomp    | for             | [united]            \n",
            "united          | oprd     | calling         | []                  \n",
            ",               | punct    | thank           | []                  \n",
            "have            | conj     | thank           | [one]               \n",
            "a               | det      | one             | []                  \n",
            "good            | amod     | one             | []                  \n",
            "one             | dobj     | have            | [a, good]           \n",
            "!               | punct    | thank           | []                  \n",
            "*               | nsubj    | hangs           | []                  \n",
            "hangs           | ROOT     | hangs           | [*, up, *]          \n",
            "up              | advmod   | hangs           | []                  \n",
            "*               | punct    | hangs           | []                  \n"
          ]
        }
      ]
    },
    {
      "cell_type": "code",
      "source": [
        "def load_word_vec(path, word2idx=None, embed_dim=300):\n",
        "    fin = open(path, 'r', encoding='utf-8', newline='\\n', errors='ignore')\n",
        "    word_vec = {}\n",
        "    for line in fin:\n",
        "        tokens = line.rstrip().split()\n",
        "        word, vec = ' '.join(tokens[:-embed_dim]), tokens[-embed_dim:]\n",
        "        if word in word2idx.keys():\n",
        "            word_vec[word] = np.array(vec, dtype=np.float32)\n",
        "    return word_vec\n",
        "\n",
        "\n",
        "def build_embedding_matrix(word2idx, embed_dim=300):\n",
        "    embedding_matrix = np.zeros((len(word2idx), embed_dim))\n",
        "    embedding_matrix[1, :] = np.random.uniform(-1/np.sqrt(embed_dim), 1/np.sqrt(embed_dim), (1, embed_dim))\n",
        "\n",
        "    fname = 'glove.840B.300d.txt'\n",
        "    word_vec = load_word_vec(fname, word2idx=word2idx, embed_dim=embed_dim)\n",
        "\n",
        "    for word, i in word2idx.items():\n",
        "        vec = word_vec.get(word)\n",
        "        if vec is not None:\n",
        "            embedding_matrix[i] = vec\n",
        "\n",
        "    return embedding_matrix\n",
        "\n",
        "embedding_matrix = build_embedding_matrix(tokenizer.word2idx, 300)"
      ],
      "metadata": {
        "id": "y-3XM9yQaXtl"
      },
      "execution_count": 32,
      "outputs": []
    },
    {
      "cell_type": "code",
      "source": [
        "embedding_matrix.shape"
      ],
      "metadata": {
        "colab": {
          "base_uri": "https://localhost:8080/"
        },
        "id": "BNqkw2wTeSJY",
        "outputId": "056aa3c0-aac9-44dd-ddfd-a4f3fe11de4f"
      },
      "execution_count": 33,
      "outputs": [
        {
          "output_type": "execute_result",
          "data": {
            "text/plain": [
              "(12732, 300)"
            ]
          },
          "metadata": {},
          "execution_count": 33
        }
      ]
    },
    {
      "cell_type": "markdown",
      "source": [
        "теперь готовы эмбеддинги для каждой записи"
      ],
      "metadata": {
        "id": "Np6YStBmYnmH"
      }
    },
    {
      "cell_type": "code",
      "source": [
        "#!mkdir raw\n",
        "!mv customers.csv /raw"
      ],
      "metadata": {
        "colab": {
          "base_uri": "https://localhost:8080/"
        },
        "id": "HssDDq7EezrH",
        "outputId": "14b45564-9abe-4fb0-85f8-c8773942eb4b"
      },
      "execution_count": 21,
      "outputs": [
        {
          "output_type": "stream",
          "name": "stdout",
          "text": [
            "mv: cannot stat 'customers.csv': No such file or directory\n"
          ]
        }
      ]
    },
    {
      "cell_type": "code",
      "source": [
        "import os\n",
        "\n",
        "class MyTrainDataset(InMemoryDataset):\n",
        "    def __init__(self, root, transform=None, pre_transform=None, pre_filter=None):\n",
        "        super().__init__(root, transform, pre_transform, pre_filter)\n",
        "        self.process()\n",
        "        self.data, self.slices = torch.load(self.processed_paths[0])\n",
        "\n",
        "    @property\n",
        "    def raw_dir(self):\n",
        "        return \"customers.csv\"\n",
        "\n",
        "    @property\n",
        "    def processed_dir(self):\n",
        "        return os.path.join(self.root, \"train_processed\")\n",
        "\n",
        "    @property\n",
        "    def raw_file_names(self):\n",
        "        return ['train.csv']\n",
        "\n",
        "    @property\n",
        "    def processed_file_names(self):\n",
        "        return ['train-data.pt']\n",
        "\n",
        "    def download(self):\n",
        "        pass\n",
        "\n",
        "    def process(self):\n",
        "        print(\"Вызов process()\")\n",
        "        data_list = self.read_data()\n",
        "\n",
        "\n",
        "        if self.pre_filter is not None:\n",
        "            data_list = [data for data in data_list if self.pre_filter(data)]\n",
        "\n",
        "        if self.pre_transform is not None:\n",
        "            data_list = [self.pre_transform(data) for data in data_list]\n",
        "\n",
        "\n",
        "        data, slices = self.collate(data_list)\n",
        "        torch.save((data, slices), self.processed_paths[0])\n",
        "        print(\"process() завершён, данные сохранены.\")\n",
        "\n",
        "    def read_data(self):\n",
        "        print(\"Чтение данных...\")\n",
        "        df_train = final_df\n",
        "        all_data = []\n",
        "\n",
        "        for i in range(df_train.shape[0]):\n",
        "            text = df_train.call_transcript.iloc[i].lower().replace(\"\\n\", \"\").strip()\n",
        "            doc = tokenizer.text_to_doc(text)\n",
        "            input_ids = tokenizer.doc_to_sequence(doc)\n",
        "            label = df_train.customer_tone.iloc[i]\n",
        "\n",
        "            x = torch.tensor(input_ids, dtype=torch.int32).unsqueeze(1)\n",
        "            edge_index = torch.tensor(idx2graph[i], dtype=torch.long)\n",
        "            y = torch.tensor([label], dtype=torch.float32)\n",
        "\n",
        "\n",
        "            data = Data(x=x, edge_index=edge_index, y=y)\n",
        "            all_data.append(data)\n",
        "\n",
        "            if i < 5:\n",
        "                print(f\"Граф {i}: x={x.size()}, edge_index={edge_index.size()}, y={y}\")\n",
        "\n",
        "        print(\"Чтение данных завершено.\")\n",
        "        return all_data\n"
      ],
      "metadata": {
        "id": "-TJ4IEFmfwEk"
      },
      "execution_count": 34,
      "outputs": []
    },
    {
      "cell_type": "code",
      "source": [
        "dataset = MyTrainDataset(root='/content')\n"
      ],
      "metadata": {
        "colab": {
          "base_uri": "https://localhost:8080/"
        },
        "id": "7jaNKr35ghBN",
        "outputId": "cab2de3f-9d9b-48a3-b371-c0fafc4da212"
      },
      "execution_count": 35,
      "outputs": [
        {
          "output_type": "stream",
          "name": "stderr",
          "text": [
            "Processing...\n"
          ]
        },
        {
          "output_type": "stream",
          "name": "stdout",
          "text": [
            "Вызов process()\n",
            "Чтение данных...\n",
            "Граф 0: x=torch.Size([473, 1]), edge_index=torch.Size([2, 884]), y=tensor([0.])\n",
            "Граф 1: x=torch.Size([565, 1]), edge_index=torch.Size([2, 1050]), y=tensor([3.])\n",
            "Граф 2: x=torch.Size([671, 1]), edge_index=torch.Size([2, 1270]), y=tensor([4.])\n",
            "Граф 3: x=torch.Size([695, 1]), edge_index=torch.Size([2, 1280]), y=tensor([2.])\n",
            "Граф 4: x=torch.Size([610, 1]), edge_index=torch.Size([2, 1146]), y=tensor([4.])\n",
            "Чтение данных завершено.\n",
            "process() завершён, данные сохранены.\n",
            "Вызов process()\n",
            "Чтение данных...\n",
            "Граф 0: x=torch.Size([473, 1]), edge_index=torch.Size([2, 884]), y=tensor([0.])\n"
          ]
        },
        {
          "output_type": "stream",
          "name": "stderr",
          "text": [
            "Done!\n"
          ]
        },
        {
          "output_type": "stream",
          "name": "stdout",
          "text": [
            "Граф 1: x=torch.Size([565, 1]), edge_index=torch.Size([2, 1050]), y=tensor([3.])\n",
            "Граф 2: x=torch.Size([671, 1]), edge_index=torch.Size([2, 1270]), y=tensor([4.])\n",
            "Граф 3: x=torch.Size([695, 1]), edge_index=torch.Size([2, 1280]), y=tensor([2.])\n",
            "Граф 4: x=torch.Size([610, 1]), edge_index=torch.Size([2, 1146]), y=tensor([4.])\n",
            "Чтение данных завершено.\n",
            "process() завершён, данные сохранены.\n"
          ]
        },
        {
          "output_type": "stream",
          "name": "stderr",
          "text": [
            "<ipython-input-34-ed58b5f0e75b>:10: FutureWarning: You are using `torch.load` with `weights_only=False` (the current default value), which uses the default pickle module implicitly. It is possible to construct malicious pickle data which will execute arbitrary code during unpickling (See https://github.com/pytorch/pytorch/blob/main/SECURITY.md#untrusted-models for more details). In a future release, the default value for `weights_only` will be flipped to `True`. This limits the functions that could be executed during unpickling. Arbitrary objects will no longer be allowed to be loaded via this mode unless they are explicitly allowlisted by the user via `torch.serialization.add_safe_globals`. We recommend you start setting `weights_only=True` for any use case where you don't have full control of the loaded file. Please open an issue on GitHub for any issues related to this experimental feature.\n",
            "  self.data, self.slices = torch.load(self.processed_paths[0])\n"
          ]
        }
      ]
    },
    {
      "cell_type": "code",
      "source": [
        "dataset.data"
      ],
      "metadata": {
        "colab": {
          "base_uri": "https://localhost:8080/"
        },
        "id": "M6KnWWjfnIey",
        "outputId": "84e64832-a813-4cd6-f09c-c148b501e009"
      },
      "execution_count": 36,
      "outputs": [
        {
          "output_type": "stream",
          "name": "stderr",
          "text": [
            "/usr/local/lib/python3.10/dist-packages/torch_geometric/data/in_memory_dataset.py:300: UserWarning: It is not recommended to directly access the internal storage format `data` of an 'InMemoryDataset'. If you are absolutely certain what you are doing, access the internal storage via `InMemoryDataset._data` instead to suppress this warning. Alternatively, you can access stacked individual attributes of every graph via `dataset.{attr_name}`.\n",
            "  warnings.warn(msg)\n"
          ]
        },
        {
          "output_type": "execute_result",
          "data": {
            "text/plain": [
              "Data(x=[2333235, 1], edge_index=[2, 4353420], y=[4000])"
            ]
          },
          "metadata": {},
          "execution_count": 36
        }
      ]
    },
    {
      "cell_type": "code",
      "source": [
        "dataset.data.y[:100]"
      ],
      "metadata": {
        "colab": {
          "base_uri": "https://localhost:8080/"
        },
        "id": "RY0-NLLypXm_",
        "outputId": "810358b4-ee5e-42b6-98ed-b29ca826ccb0"
      },
      "execution_count": 46,
      "outputs": [
        {
          "output_type": "stream",
          "name": "stderr",
          "text": [
            "/usr/local/lib/python3.10/dist-packages/torch_geometric/data/in_memory_dataset.py:300: UserWarning: It is not recommended to directly access the internal storage format `data` of an 'InMemoryDataset'. The given 'InMemoryDataset' only references a subset of examples of the full dataset, but 'data' will contain information of the full dataset. If you are absolutely certain what you are doing, access the internal storage via `InMemoryDataset._data` instead to suppress this warning. Alternatively, you can access stacked individual attributes of every graph via `dataset.{attr_name}`.\n",
            "  warnings.warn(msg)\n"
          ]
        },
        {
          "output_type": "execute_result",
          "data": {
            "text/plain": [
              "tensor([0., 3., 4., 2., 4., 1., 2., 0., 3., 0., 2., 3., 4., 0., 2., 0., 0., 1.,\n",
              "        1., 3., 2., 2., 0., 4., 3., 4., 4., 3., 4., 3., 1., 0., 0., 0., 1., 0.,\n",
              "        4., 2., 2., 1., 0., 3., 3., 1., 1., 1., 4., 0., 1., 1., 0., 0., 2., 4.,\n",
              "        4., 4., 0., 2., 2., 2., 0., 3., 0., 2., 0., 0., 2., 1., 1., 2., 4., 1.,\n",
              "        1., 2., 1., 0., 1., 0., 4., 2., 4., 1., 3., 3., 4., 2., 3., 2., 1., 2.,\n",
              "        0., 4., 1., 0., 3., 4., 0., 3., 4., 2.])"
            ]
          },
          "metadata": {},
          "execution_count": 46
        }
      ]
    },
    {
      "cell_type": "code",
      "source": [
        "len(dataset)"
      ],
      "metadata": {
        "colab": {
          "base_uri": "https://localhost:8080/"
        },
        "id": "cVhxBz4Ew04v",
        "outputId": "21489101-997b-4319-ac62-67e1190edcf7"
      },
      "execution_count": 37,
      "outputs": [
        {
          "output_type": "execute_result",
          "data": {
            "text/plain": [
              "4000"
            ]
          },
          "metadata": {},
          "execution_count": 37
        }
      ]
    },
    {
      "cell_type": "code",
      "source": [
        "dataset = dataset.shuffle()\n",
        "train_len = int(0.8*len(dataset))\n",
        "train_dataset = dataset[:train_len]\n",
        "val_dataset = dataset[train_len:]\n",
        "print(len(train_dataset), len(val_dataset))"
      ],
      "metadata": {
        "colab": {
          "base_uri": "https://localhost:8080/"
        },
        "id": "PEYW3Xv5w9yy",
        "outputId": "d260ea9d-cd10-4668-94d9-72d9abcf6fcf"
      },
      "execution_count": 38,
      "outputs": [
        {
          "output_type": "stream",
          "name": "stdout",
          "text": [
            "3200 800\n"
          ]
        }
      ]
    },
    {
      "cell_type": "code",
      "source": [
        "train_loader = DataLoader(train_dataset, batch_size=128, shuffle=True)\n",
        "val_loader = DataLoader(val_dataset, batch_size=128)"
      ],
      "metadata": {
        "id": "LI2oijZrw_1V"
      },
      "execution_count": 39,
      "outputs": []
    },
    {
      "cell_type": "code",
      "source": [
        "class FeedbackModel(nn.Module):\n",
        "    def __init__(self, embedding_matrix):\n",
        "\n",
        "        super(FeedbackModel, self).__init__()\n",
        "\n",
        "        self.embed = nn.Embedding.from_pretrained(torch.tensor(embedding_matrix, dtype=torch.float), freeze=False)\n",
        "        # GCNConv SAGEConv ResGatedGraphConv GraphConv(300, 128)\n",
        "        # TransformerConv GATv2Conv GATConv(300, 128, heads=4) ChebConv(300, 128, K=2)\n",
        "        # GCNConv SAGEConv ResGatedGraphConv GraphConv(128, 64)\n",
        "        # TransformerConv  GATv2Conv GATConv(4*128, 64) ChebConv(128, 64, K=2)\n",
        "#         self.gru = nn.GRU(256, 256, num_layers=1,\n",
        "#                           dropout=0, batch_first=True,\n",
        "#                           bidirectional=False)          # RNN, GRU\n",
        "        # output: (N, L, D∗Hout), D = 2 if bidirectional=True otherwise 1\n",
        "        # h_n: (D∗num_layers, N, Hout)\n",
        "        self.gc1   = GATv2Conv(300, 128)\n",
        "        self.pool1 = pyg_nn.TopKPooling(128, ratio=0.8)\n",
        "        self.gc2   = GCNConv(128, 128)\n",
        "        self.pool2 = pyg_nn.TopKPooling(128, ratio=0.8)\n",
        "        self.lin1  = nn.Linear(256, 64)\n",
        "        self.lin2  = nn.Linear(64, 5)\n",
        "\n",
        "    def forward(self, data):\n",
        "        x, edge_index, batch = data.x, data.edge_index, data.batch\n",
        "        x = x.squeeze(1)\n",
        "        x = self.embed(x)\n",
        "\n",
        "        x = F.relu(self.gc1(x, edge_index))\n",
        "        x, edge_index, edge_attr, batch, perm, score = self.pool1(x, edge_index, None, batch)\n",
        "        x1 = torch.cat([pyg_nn.global_max_pool(x, batch), pyg_nn.global_mean_pool(x, batch)], dim=1)\n",
        "\n",
        "        x = F.relu(self.gc2(x, edge_index))\n",
        "        x, edge_index, edge_attr, batch, perm, score = self.pool2(x, edge_index, None, batch)\n",
        "        x2 = torch.cat([pyg_nn.global_max_pool(x, batch), pyg_nn.global_mean_pool(x, batch)], dim=1)\n",
        "\n",
        "        x = x1 + x2\n",
        "        # x, hn = self.gru(x, None)\n",
        "        x = F.relu(self.lin1(x))\n",
        "        x = F.dropout(x, p=0.5, training=self.training)\n",
        "        output = F.relu(self.lin2(x))\n",
        "\n",
        "        return output"
      ],
      "metadata": {
        "id": "a76pPUcMxDUO"
      },
      "execution_count": 47,
      "outputs": []
    },
    {
      "cell_type": "code",
      "source": [
        "model = FeedbackModel(embedding_matrix)\n",
        "model"
      ],
      "metadata": {
        "colab": {
          "base_uri": "https://localhost:8080/"
        },
        "id": "qjS8w3y-xMTY",
        "outputId": "bfd5443e-21c0-442e-a358-6fce2557b793"
      },
      "execution_count": 48,
      "outputs": [
        {
          "output_type": "execute_result",
          "data": {
            "text/plain": [
              "FeedbackModel(\n",
              "  (embed): Embedding(12732, 300)\n",
              "  (gc1): GATv2Conv(300, 128, heads=1)\n",
              "  (pool1): TopKPooling(128, ratio=0.8, multiplier=1.0)\n",
              "  (gc2): GCNConv(128, 128)\n",
              "  (pool2): TopKPooling(128, ratio=0.8, multiplier=1.0)\n",
              "  (lin1): Linear(in_features=256, out_features=64, bias=True)\n",
              "  (lin2): Linear(in_features=64, out_features=5, bias=True)\n",
              ")"
            ]
          },
          "metadata": {},
          "execution_count": 48
        }
      ]
    },
    {
      "cell_type": "code",
      "source": [
        "epochs = 60\n",
        "\n",
        "criterion = nn.CrossEntropyLoss()\n",
        "optimizer = Adam(model.parameters(), lr=3e-3)\n",
        "#scheduler = lr_scheduler.ReduceLROnPlateau(optimizer, mode='min', factor=0.1, patience=6)\n",
        "\n",
        "device = torch.device(\"cuda\" if torch.cuda.is_available() else \"cpu\")\n",
        "model.to(device)\n",
        "criterion.to(device)"
      ],
      "metadata": {
        "colab": {
          "base_uri": "https://localhost:8080/"
        },
        "id": "9E8-Z3cexUpT",
        "outputId": "4c216016-5cc0-43aa-f0bb-4cca777d53b6"
      },
      "execution_count": 54,
      "outputs": [
        {
          "output_type": "execute_result",
          "data": {
            "text/plain": [
              "CrossEntropyLoss()"
            ]
          },
          "metadata": {},
          "execution_count": 54
        }
      ]
    },
    {
      "cell_type": "code",
      "source": [
        "total_loss = []\n",
        "for epoch_num in range(epochs):\n",
        "    model.train()\n",
        "    total_loss_train = 0\n",
        "    for i, sample_batched in enumerate(train_loader):\n",
        "        sample_batched = sample_batched.to(device)\n",
        "        optimizer.zero_grad()\n",
        "        outputs = model(sample_batched)\n",
        "        label = sample_batched.y.to(device)\n",
        "        loss = criterion(outputs, label.to(torch.long))\n",
        "        if i % 10 == 0:\n",
        "            print(f\"epoch: {epoch_num} it: {i} loss: {loss.item()}\")\n",
        "        loss.backward()\n",
        "        total_loss_train += loss.item()\n",
        "        optimizer.step()\n",
        "\n",
        "    model.eval()\n",
        "    total_loss_val = 0\n",
        "    with torch.no_grad():\n",
        "        for sample_batched in val_loader:\n",
        "            sample_batched = sample_batched.to(device)\n",
        "            outputs = model(sample_batched)\n",
        "            label = sample_batched.y.to(device)\n",
        "            loss = criterion(outputs, label.to(torch.long))\n",
        "            total_loss_val += loss.item()\n",
        "\n",
        "    #scheduler.step(total_loss_val / len(val_dataset))\n",
        "\n",
        "    print(f'Epoch: %02.0f | Train Loss: {total_loss_train / len(train_dataset): .3f} | Val Loss: {total_loss_val / len(val_dataset): .3f}' % (epoch_num + 1))\n",
        "    total_loss.append([total_loss_train / len(train_dataset), total_loss_val / len(val_dataset)])"
      ],
      "metadata": {
        "colab": {
          "base_uri": "https://localhost:8080/",
          "height": 617
        },
        "id": "4JLQEMZtxad8",
        "outputId": "fbc50f85-ade4-4ece-b275-6dd5f8a8cbde"
      },
      "execution_count": 55,
      "outputs": [
        {
          "output_type": "stream",
          "name": "stdout",
          "text": [
            "epoch: 0 it: 0 loss: 1.6063629388809204\n",
            "epoch: 0 it: 10 loss: 1.5397961139678955\n",
            "epoch: 0 it: 20 loss: 1.321150779724121\n",
            "Epoch: 01 | Train Loss:  0.011 | Val Loss:  0.011\n",
            "epoch: 1 it: 0 loss: 1.4191863536834717\n",
            "epoch: 1 it: 10 loss: 1.2867873907089233\n",
            "epoch: 1 it: 20 loss: 1.1841208934783936\n",
            "Epoch: 02 | Train Loss:  0.010 | Val Loss:  0.009\n",
            "epoch: 2 it: 0 loss: 1.0218862295150757\n",
            "epoch: 2 it: 10 loss: 0.9532959461212158\n",
            "epoch: 2 it: 20 loss: 1.01244056224823\n",
            "Epoch: 03 | Train Loss:  0.008 | Val Loss:  0.009\n",
            "epoch: 3 it: 0 loss: 0.9183574318885803\n",
            "epoch: 3 it: 10 loss: 0.7967538833618164\n",
            "epoch: 3 it: 20 loss: 0.7647347450256348\n"
          ]
        },
        {
          "output_type": "error",
          "ename": "KeyboardInterrupt",
          "evalue": "",
          "traceback": [
            "\u001b[0;31m---------------------------------------------------------------------------\u001b[0m",
            "\u001b[0;31mKeyboardInterrupt\u001b[0m                         Traceback (most recent call last)",
            "\u001b[0;32m<ipython-input-55-1cf68b3e2cbd>\u001b[0m in \u001b[0;36m<cell line: 2>\u001b[0;34m()\u001b[0m\n\u001b[1;32m      6\u001b[0m         \u001b[0msample_batched\u001b[0m \u001b[0;34m=\u001b[0m \u001b[0msample_batched\u001b[0m\u001b[0;34m.\u001b[0m\u001b[0mto\u001b[0m\u001b[0;34m(\u001b[0m\u001b[0mdevice\u001b[0m\u001b[0;34m)\u001b[0m\u001b[0;34m\u001b[0m\u001b[0;34m\u001b[0m\u001b[0m\n\u001b[1;32m      7\u001b[0m         \u001b[0moptimizer\u001b[0m\u001b[0;34m.\u001b[0m\u001b[0mzero_grad\u001b[0m\u001b[0;34m(\u001b[0m\u001b[0;34m)\u001b[0m\u001b[0;34m\u001b[0m\u001b[0;34m\u001b[0m\u001b[0m\n\u001b[0;32m----> 8\u001b[0;31m         \u001b[0moutputs\u001b[0m \u001b[0;34m=\u001b[0m \u001b[0mmodel\u001b[0m\u001b[0;34m(\u001b[0m\u001b[0msample_batched\u001b[0m\u001b[0;34m)\u001b[0m\u001b[0;34m\u001b[0m\u001b[0;34m\u001b[0m\u001b[0m\n\u001b[0m\u001b[1;32m      9\u001b[0m         \u001b[0mlabel\u001b[0m \u001b[0;34m=\u001b[0m \u001b[0msample_batched\u001b[0m\u001b[0;34m.\u001b[0m\u001b[0my\u001b[0m\u001b[0;34m.\u001b[0m\u001b[0mto\u001b[0m\u001b[0;34m(\u001b[0m\u001b[0mdevice\u001b[0m\u001b[0;34m)\u001b[0m\u001b[0;34m\u001b[0m\u001b[0;34m\u001b[0m\u001b[0m\n\u001b[1;32m     10\u001b[0m         \u001b[0mloss\u001b[0m \u001b[0;34m=\u001b[0m \u001b[0mcriterion\u001b[0m\u001b[0;34m(\u001b[0m\u001b[0moutputs\u001b[0m\u001b[0;34m,\u001b[0m \u001b[0mlabel\u001b[0m\u001b[0;34m.\u001b[0m\u001b[0mto\u001b[0m\u001b[0;34m(\u001b[0m\u001b[0mtorch\u001b[0m\u001b[0;34m.\u001b[0m\u001b[0mlong\u001b[0m\u001b[0;34m)\u001b[0m\u001b[0;34m)\u001b[0m\u001b[0;34m\u001b[0m\u001b[0;34m\u001b[0m\u001b[0m\n",
            "\u001b[0;32m/usr/local/lib/python3.10/dist-packages/torch/nn/modules/module.py\u001b[0m in \u001b[0;36m_wrapped_call_impl\u001b[0;34m(self, *args, **kwargs)\u001b[0m\n\u001b[1;32m   1734\u001b[0m             \u001b[0;32mreturn\u001b[0m \u001b[0mself\u001b[0m\u001b[0;34m.\u001b[0m\u001b[0m_compiled_call_impl\u001b[0m\u001b[0;34m(\u001b[0m\u001b[0;34m*\u001b[0m\u001b[0margs\u001b[0m\u001b[0;34m,\u001b[0m \u001b[0;34m**\u001b[0m\u001b[0mkwargs\u001b[0m\u001b[0;34m)\u001b[0m  \u001b[0;31m# type: ignore[misc]\u001b[0m\u001b[0;34m\u001b[0m\u001b[0;34m\u001b[0m\u001b[0m\n\u001b[1;32m   1735\u001b[0m         \u001b[0;32melse\u001b[0m\u001b[0;34m:\u001b[0m\u001b[0;34m\u001b[0m\u001b[0;34m\u001b[0m\u001b[0m\n\u001b[0;32m-> 1736\u001b[0;31m             \u001b[0;32mreturn\u001b[0m \u001b[0mself\u001b[0m\u001b[0;34m.\u001b[0m\u001b[0m_call_impl\u001b[0m\u001b[0;34m(\u001b[0m\u001b[0;34m*\u001b[0m\u001b[0margs\u001b[0m\u001b[0;34m,\u001b[0m \u001b[0;34m**\u001b[0m\u001b[0mkwargs\u001b[0m\u001b[0;34m)\u001b[0m\u001b[0;34m\u001b[0m\u001b[0;34m\u001b[0m\u001b[0m\n\u001b[0m\u001b[1;32m   1737\u001b[0m \u001b[0;34m\u001b[0m\u001b[0m\n\u001b[1;32m   1738\u001b[0m     \u001b[0;31m# torchrec tests the code consistency with the following code\u001b[0m\u001b[0;34m\u001b[0m\u001b[0;34m\u001b[0m\u001b[0m\n",
            "\u001b[0;32m/usr/local/lib/python3.10/dist-packages/torch/nn/modules/module.py\u001b[0m in \u001b[0;36m_call_impl\u001b[0;34m(self, *args, **kwargs)\u001b[0m\n\u001b[1;32m   1745\u001b[0m                 \u001b[0;32mor\u001b[0m \u001b[0m_global_backward_pre_hooks\u001b[0m \u001b[0;32mor\u001b[0m \u001b[0m_global_backward_hooks\u001b[0m\u001b[0;34m\u001b[0m\u001b[0;34m\u001b[0m\u001b[0m\n\u001b[1;32m   1746\u001b[0m                 or _global_forward_hooks or _global_forward_pre_hooks):\n\u001b[0;32m-> 1747\u001b[0;31m             \u001b[0;32mreturn\u001b[0m \u001b[0mforward_call\u001b[0m\u001b[0;34m(\u001b[0m\u001b[0;34m*\u001b[0m\u001b[0margs\u001b[0m\u001b[0;34m,\u001b[0m \u001b[0;34m**\u001b[0m\u001b[0mkwargs\u001b[0m\u001b[0;34m)\u001b[0m\u001b[0;34m\u001b[0m\u001b[0;34m\u001b[0m\u001b[0m\n\u001b[0m\u001b[1;32m   1748\u001b[0m \u001b[0;34m\u001b[0m\u001b[0m\n\u001b[1;32m   1749\u001b[0m         \u001b[0mresult\u001b[0m \u001b[0;34m=\u001b[0m \u001b[0;32mNone\u001b[0m\u001b[0;34m\u001b[0m\u001b[0;34m\u001b[0m\u001b[0m\n",
            "\u001b[0;32m<ipython-input-47-6f34f3090e38>\u001b[0m in \u001b[0;36mforward\u001b[0;34m(self, data)\u001b[0m\n\u001b[1;32m     26\u001b[0m         \u001b[0mx\u001b[0m \u001b[0;34m=\u001b[0m \u001b[0mself\u001b[0m\u001b[0;34m.\u001b[0m\u001b[0membed\u001b[0m\u001b[0;34m(\u001b[0m\u001b[0mx\u001b[0m\u001b[0;34m)\u001b[0m\u001b[0;34m\u001b[0m\u001b[0;34m\u001b[0m\u001b[0m\n\u001b[1;32m     27\u001b[0m \u001b[0;34m\u001b[0m\u001b[0m\n\u001b[0;32m---> 28\u001b[0;31m         \u001b[0mx\u001b[0m \u001b[0;34m=\u001b[0m \u001b[0mF\u001b[0m\u001b[0;34m.\u001b[0m\u001b[0mrelu\u001b[0m\u001b[0;34m(\u001b[0m\u001b[0mself\u001b[0m\u001b[0;34m.\u001b[0m\u001b[0mgc1\u001b[0m\u001b[0;34m(\u001b[0m\u001b[0mx\u001b[0m\u001b[0;34m,\u001b[0m \u001b[0medge_index\u001b[0m\u001b[0;34m)\u001b[0m\u001b[0;34m)\u001b[0m\u001b[0;34m\u001b[0m\u001b[0;34m\u001b[0m\u001b[0m\n\u001b[0m\u001b[1;32m     29\u001b[0m         \u001b[0mx\u001b[0m\u001b[0;34m,\u001b[0m \u001b[0medge_index\u001b[0m\u001b[0;34m,\u001b[0m \u001b[0medge_attr\u001b[0m\u001b[0;34m,\u001b[0m \u001b[0mbatch\u001b[0m\u001b[0;34m,\u001b[0m \u001b[0mperm\u001b[0m\u001b[0;34m,\u001b[0m \u001b[0mscore\u001b[0m \u001b[0;34m=\u001b[0m \u001b[0mself\u001b[0m\u001b[0;34m.\u001b[0m\u001b[0mpool1\u001b[0m\u001b[0;34m(\u001b[0m\u001b[0mx\u001b[0m\u001b[0;34m,\u001b[0m \u001b[0medge_index\u001b[0m\u001b[0;34m,\u001b[0m \u001b[0;32mNone\u001b[0m\u001b[0;34m,\u001b[0m \u001b[0mbatch\u001b[0m\u001b[0;34m)\u001b[0m\u001b[0;34m\u001b[0m\u001b[0;34m\u001b[0m\u001b[0m\n\u001b[1;32m     30\u001b[0m         \u001b[0mx1\u001b[0m \u001b[0;34m=\u001b[0m \u001b[0mtorch\u001b[0m\u001b[0;34m.\u001b[0m\u001b[0mcat\u001b[0m\u001b[0;34m(\u001b[0m\u001b[0;34m[\u001b[0m\u001b[0mpyg_nn\u001b[0m\u001b[0;34m.\u001b[0m\u001b[0mglobal_max_pool\u001b[0m\u001b[0;34m(\u001b[0m\u001b[0mx\u001b[0m\u001b[0;34m,\u001b[0m \u001b[0mbatch\u001b[0m\u001b[0;34m)\u001b[0m\u001b[0;34m,\u001b[0m \u001b[0mpyg_nn\u001b[0m\u001b[0;34m.\u001b[0m\u001b[0mglobal_mean_pool\u001b[0m\u001b[0;34m(\u001b[0m\u001b[0mx\u001b[0m\u001b[0;34m,\u001b[0m \u001b[0mbatch\u001b[0m\u001b[0;34m)\u001b[0m\u001b[0;34m]\u001b[0m\u001b[0;34m,\u001b[0m \u001b[0mdim\u001b[0m\u001b[0;34m=\u001b[0m\u001b[0;36m1\u001b[0m\u001b[0;34m)\u001b[0m\u001b[0;34m\u001b[0m\u001b[0;34m\u001b[0m\u001b[0m\n",
            "\u001b[0;32m/usr/local/lib/python3.10/dist-packages/torch/nn/modules/module.py\u001b[0m in \u001b[0;36m_wrapped_call_impl\u001b[0;34m(self, *args, **kwargs)\u001b[0m\n\u001b[1;32m   1734\u001b[0m             \u001b[0;32mreturn\u001b[0m \u001b[0mself\u001b[0m\u001b[0;34m.\u001b[0m\u001b[0m_compiled_call_impl\u001b[0m\u001b[0;34m(\u001b[0m\u001b[0;34m*\u001b[0m\u001b[0margs\u001b[0m\u001b[0;34m,\u001b[0m \u001b[0;34m**\u001b[0m\u001b[0mkwargs\u001b[0m\u001b[0;34m)\u001b[0m  \u001b[0;31m# type: ignore[misc]\u001b[0m\u001b[0;34m\u001b[0m\u001b[0;34m\u001b[0m\u001b[0m\n\u001b[1;32m   1735\u001b[0m         \u001b[0;32melse\u001b[0m\u001b[0;34m:\u001b[0m\u001b[0;34m\u001b[0m\u001b[0;34m\u001b[0m\u001b[0m\n\u001b[0;32m-> 1736\u001b[0;31m             \u001b[0;32mreturn\u001b[0m \u001b[0mself\u001b[0m\u001b[0;34m.\u001b[0m\u001b[0m_call_impl\u001b[0m\u001b[0;34m(\u001b[0m\u001b[0;34m*\u001b[0m\u001b[0margs\u001b[0m\u001b[0;34m,\u001b[0m \u001b[0;34m**\u001b[0m\u001b[0mkwargs\u001b[0m\u001b[0;34m)\u001b[0m\u001b[0;34m\u001b[0m\u001b[0;34m\u001b[0m\u001b[0m\n\u001b[0m\u001b[1;32m   1737\u001b[0m \u001b[0;34m\u001b[0m\u001b[0m\n\u001b[1;32m   1738\u001b[0m     \u001b[0;31m# torchrec tests the code consistency with the following code\u001b[0m\u001b[0;34m\u001b[0m\u001b[0;34m\u001b[0m\u001b[0m\n",
            "\u001b[0;32m/usr/local/lib/python3.10/dist-packages/torch/nn/modules/module.py\u001b[0m in \u001b[0;36m_call_impl\u001b[0;34m(self, *args, **kwargs)\u001b[0m\n\u001b[1;32m   1745\u001b[0m                 \u001b[0;32mor\u001b[0m \u001b[0m_global_backward_pre_hooks\u001b[0m \u001b[0;32mor\u001b[0m \u001b[0m_global_backward_hooks\u001b[0m\u001b[0;34m\u001b[0m\u001b[0;34m\u001b[0m\u001b[0m\n\u001b[1;32m   1746\u001b[0m                 or _global_forward_hooks or _global_forward_pre_hooks):\n\u001b[0;32m-> 1747\u001b[0;31m             \u001b[0;32mreturn\u001b[0m \u001b[0mforward_call\u001b[0m\u001b[0;34m(\u001b[0m\u001b[0;34m*\u001b[0m\u001b[0margs\u001b[0m\u001b[0;34m,\u001b[0m \u001b[0;34m**\u001b[0m\u001b[0mkwargs\u001b[0m\u001b[0;34m)\u001b[0m\u001b[0;34m\u001b[0m\u001b[0;34m\u001b[0m\u001b[0m\n\u001b[0m\u001b[1;32m   1748\u001b[0m \u001b[0;34m\u001b[0m\u001b[0m\n\u001b[1;32m   1749\u001b[0m         \u001b[0mresult\u001b[0m \u001b[0;34m=\u001b[0m \u001b[0;32mNone\u001b[0m\u001b[0;34m\u001b[0m\u001b[0;34m\u001b[0m\u001b[0m\n",
            "\u001b[0;32m/usr/local/lib/python3.10/dist-packages/torch_geometric/nn/conv/gatv2_conv.py\u001b[0m in \u001b[0;36mforward\u001b[0;34m(self, x, edge_index, edge_attr, return_attention_weights)\u001b[0m\n\u001b[1;32m    327\u001b[0m \u001b[0;34m\u001b[0m\u001b[0m\n\u001b[1;32m    328\u001b[0m         \u001b[0;31m# propagate_type: (x: PairTensor, alpha: Tensor)\u001b[0m\u001b[0;34m\u001b[0m\u001b[0;34m\u001b[0m\u001b[0m\n\u001b[0;32m--> 329\u001b[0;31m         \u001b[0mout\u001b[0m \u001b[0;34m=\u001b[0m \u001b[0mself\u001b[0m\u001b[0;34m.\u001b[0m\u001b[0mpropagate\u001b[0m\u001b[0;34m(\u001b[0m\u001b[0medge_index\u001b[0m\u001b[0;34m,\u001b[0m \u001b[0mx\u001b[0m\u001b[0;34m=\u001b[0m\u001b[0;34m(\u001b[0m\u001b[0mx_l\u001b[0m\u001b[0;34m,\u001b[0m \u001b[0mx_r\u001b[0m\u001b[0;34m)\u001b[0m\u001b[0;34m,\u001b[0m \u001b[0malpha\u001b[0m\u001b[0;34m=\u001b[0m\u001b[0malpha\u001b[0m\u001b[0;34m)\u001b[0m\u001b[0;34m\u001b[0m\u001b[0;34m\u001b[0m\u001b[0m\n\u001b[0m\u001b[1;32m    330\u001b[0m \u001b[0;34m\u001b[0m\u001b[0m\n\u001b[1;32m    331\u001b[0m         \u001b[0;32mif\u001b[0m \u001b[0mself\u001b[0m\u001b[0;34m.\u001b[0m\u001b[0mconcat\u001b[0m\u001b[0;34m:\u001b[0m\u001b[0;34m\u001b[0m\u001b[0;34m\u001b[0m\u001b[0m\n",
            "\u001b[0;32m/tmp/torch_geometric.nn.conv.gatv2_conv_GATv2Conv_propagate_cg0notfb.py\u001b[0m in \u001b[0;36mpropagate\u001b[0;34m(self, edge_index, x, alpha, size)\u001b[0m\n\u001b[1;32m    148\u001b[0m     \u001b[0;32melse\u001b[0m\u001b[0;34m:\u001b[0m\u001b[0;34m\u001b[0m\u001b[0;34m\u001b[0m\u001b[0m\n\u001b[1;32m    149\u001b[0m \u001b[0;34m\u001b[0m\u001b[0m\n\u001b[0;32m--> 150\u001b[0;31m         kwargs = self.collect(\n\u001b[0m\u001b[1;32m    151\u001b[0m             \u001b[0medge_index\u001b[0m\u001b[0;34m,\u001b[0m\u001b[0;34m\u001b[0m\u001b[0;34m\u001b[0m\u001b[0m\n\u001b[1;32m    152\u001b[0m             \u001b[0mx\u001b[0m\u001b[0;34m,\u001b[0m\u001b[0;34m\u001b[0m\u001b[0;34m\u001b[0m\u001b[0m\n",
            "\u001b[0;32m/tmp/torch_geometric.nn.conv.gatv2_conv_GATv2Conv_propagate_cg0notfb.py\u001b[0m in \u001b[0;36mcollect\u001b[0;34m(self, edge_index, x, alpha, size)\u001b[0m\n\u001b[1;32m     83\u001b[0m         \u001b[0;32mif\u001b[0m \u001b[0misinstance\u001b[0m\u001b[0;34m(\u001b[0m\u001b[0m_x_0\u001b[0m\u001b[0;34m,\u001b[0m \u001b[0mTensor\u001b[0m\u001b[0;34m)\u001b[0m\u001b[0;34m:\u001b[0m\u001b[0;34m\u001b[0m\u001b[0;34m\u001b[0m\u001b[0m\n\u001b[1;32m     84\u001b[0m             \u001b[0mself\u001b[0m\u001b[0;34m.\u001b[0m\u001b[0m_set_size\u001b[0m\u001b[0;34m(\u001b[0m\u001b[0msize\u001b[0m\u001b[0;34m,\u001b[0m \u001b[0;36m0\u001b[0m\u001b[0;34m,\u001b[0m \u001b[0m_x_0\u001b[0m\u001b[0;34m)\u001b[0m\u001b[0;34m\u001b[0m\u001b[0;34m\u001b[0m\u001b[0m\n\u001b[0;32m---> 85\u001b[0;31m             \u001b[0mx_j\u001b[0m \u001b[0;34m=\u001b[0m \u001b[0mself\u001b[0m\u001b[0;34m.\u001b[0m\u001b[0m_index_select\u001b[0m\u001b[0;34m(\u001b[0m\u001b[0m_x_0\u001b[0m\u001b[0;34m,\u001b[0m \u001b[0medge_index_j\u001b[0m\u001b[0;34m)\u001b[0m\u001b[0;34m\u001b[0m\u001b[0;34m\u001b[0m\u001b[0m\n\u001b[0m\u001b[1;32m     86\u001b[0m         \u001b[0;32melse\u001b[0m\u001b[0;34m:\u001b[0m\u001b[0;34m\u001b[0m\u001b[0;34m\u001b[0m\u001b[0m\n\u001b[1;32m     87\u001b[0m             \u001b[0mx_j\u001b[0m \u001b[0;34m=\u001b[0m \u001b[0;32mNone\u001b[0m\u001b[0;34m\u001b[0m\u001b[0;34m\u001b[0m\u001b[0m\n",
            "\u001b[0;32m/usr/local/lib/python3.10/dist-packages/torch_geometric/nn/conv/message_passing.py\u001b[0m in \u001b[0;36m_index_select\u001b[0;34m(self, src, index)\u001b[0m\n\u001b[1;32m    265\u001b[0m             \u001b[0;32mreturn\u001b[0m \u001b[0msrc\u001b[0m\u001b[0;34m.\u001b[0m\u001b[0mindex_select\u001b[0m\u001b[0;34m(\u001b[0m\u001b[0mself\u001b[0m\u001b[0;34m.\u001b[0m\u001b[0mnode_dim\u001b[0m\u001b[0;34m,\u001b[0m \u001b[0mindex\u001b[0m\u001b[0;34m)\u001b[0m\u001b[0;34m\u001b[0m\u001b[0;34m\u001b[0m\u001b[0m\n\u001b[1;32m    266\u001b[0m         \u001b[0;32melse\u001b[0m\u001b[0;34m:\u001b[0m\u001b[0;34m\u001b[0m\u001b[0;34m\u001b[0m\u001b[0m\n\u001b[0;32m--> 267\u001b[0;31m             \u001b[0;32mreturn\u001b[0m \u001b[0mself\u001b[0m\u001b[0;34m.\u001b[0m\u001b[0m_index_select_safe\u001b[0m\u001b[0;34m(\u001b[0m\u001b[0msrc\u001b[0m\u001b[0;34m,\u001b[0m \u001b[0mindex\u001b[0m\u001b[0;34m)\u001b[0m\u001b[0;34m\u001b[0m\u001b[0;34m\u001b[0m\u001b[0m\n\u001b[0m\u001b[1;32m    268\u001b[0m \u001b[0;34m\u001b[0m\u001b[0m\n\u001b[1;32m    269\u001b[0m     \u001b[0;32mdef\u001b[0m \u001b[0m_index_select_safe\u001b[0m\u001b[0;34m(\u001b[0m\u001b[0mself\u001b[0m\u001b[0;34m,\u001b[0m \u001b[0msrc\u001b[0m\u001b[0;34m:\u001b[0m \u001b[0mTensor\u001b[0m\u001b[0;34m,\u001b[0m \u001b[0mindex\u001b[0m\u001b[0;34m:\u001b[0m \u001b[0mTensor\u001b[0m\u001b[0;34m)\u001b[0m \u001b[0;34m->\u001b[0m \u001b[0mTensor\u001b[0m\u001b[0;34m:\u001b[0m\u001b[0;34m\u001b[0m\u001b[0;34m\u001b[0m\u001b[0m\n",
            "\u001b[0;32m/usr/local/lib/python3.10/dist-packages/torch_geometric/nn/conv/message_passing.py\u001b[0m in \u001b[0;36m_index_select_safe\u001b[0;34m(self, src, index)\u001b[0m\n\u001b[1;32m    269\u001b[0m     \u001b[0;32mdef\u001b[0m \u001b[0m_index_select_safe\u001b[0m\u001b[0;34m(\u001b[0m\u001b[0mself\u001b[0m\u001b[0;34m,\u001b[0m \u001b[0msrc\u001b[0m\u001b[0;34m:\u001b[0m \u001b[0mTensor\u001b[0m\u001b[0;34m,\u001b[0m \u001b[0mindex\u001b[0m\u001b[0;34m:\u001b[0m \u001b[0mTensor\u001b[0m\u001b[0;34m)\u001b[0m \u001b[0;34m->\u001b[0m \u001b[0mTensor\u001b[0m\u001b[0;34m:\u001b[0m\u001b[0;34m\u001b[0m\u001b[0;34m\u001b[0m\u001b[0m\n\u001b[1;32m    270\u001b[0m         \u001b[0;32mtry\u001b[0m\u001b[0;34m:\u001b[0m\u001b[0;34m\u001b[0m\u001b[0;34m\u001b[0m\u001b[0m\n\u001b[0;32m--> 271\u001b[0;31m             \u001b[0;32mreturn\u001b[0m \u001b[0msrc\u001b[0m\u001b[0;34m.\u001b[0m\u001b[0mindex_select\u001b[0m\u001b[0;34m(\u001b[0m\u001b[0mself\u001b[0m\u001b[0;34m.\u001b[0m\u001b[0mnode_dim\u001b[0m\u001b[0;34m,\u001b[0m \u001b[0mindex\u001b[0m\u001b[0;34m)\u001b[0m\u001b[0;34m\u001b[0m\u001b[0;34m\u001b[0m\u001b[0m\n\u001b[0m\u001b[1;32m    272\u001b[0m         \u001b[0;32mexcept\u001b[0m \u001b[0;34m(\u001b[0m\u001b[0mIndexError\u001b[0m\u001b[0;34m,\u001b[0m \u001b[0mRuntimeError\u001b[0m\u001b[0;34m)\u001b[0m \u001b[0;32mas\u001b[0m \u001b[0me\u001b[0m\u001b[0;34m:\u001b[0m\u001b[0;34m\u001b[0m\u001b[0;34m\u001b[0m\u001b[0m\n\u001b[1;32m    273\u001b[0m             \u001b[0;32mif\u001b[0m \u001b[0mindex\u001b[0m\u001b[0;34m.\u001b[0m\u001b[0mnumel\u001b[0m\u001b[0;34m(\u001b[0m\u001b[0;34m)\u001b[0m \u001b[0;34m>\u001b[0m \u001b[0;36m0\u001b[0m \u001b[0;32mand\u001b[0m \u001b[0mindex\u001b[0m\u001b[0;34m.\u001b[0m\u001b[0mmin\u001b[0m\u001b[0;34m(\u001b[0m\u001b[0;34m)\u001b[0m \u001b[0;34m<\u001b[0m \u001b[0;36m0\u001b[0m\u001b[0;34m:\u001b[0m\u001b[0;34m\u001b[0m\u001b[0;34m\u001b[0m\u001b[0m\n",
            "\u001b[0;31mKeyboardInterrupt\u001b[0m: "
          ]
        }
      ]
    },
    {
      "cell_type": "code",
      "source": [],
      "metadata": {
        "id": "9aUeioDirwWM"
      },
      "execution_count": null,
      "outputs": []
    }
  ]
}